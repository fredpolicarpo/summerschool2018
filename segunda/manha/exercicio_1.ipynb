{
 "cells": [
  {
   "cell_type": "markdown",
   "metadata": {
    "colab_type": "text",
    "id": "hDsk-mGMcUio"
   },
   "source": [
    "![alt text](http://infra.heurys.com.br/summerschool/exercicio.01.png)"
   ]
  },
  {
   "cell_type": "markdown",
   "metadata": {
    "colab_type": "text",
    "id": "v7vCSHOc94TS"
   },
   "source": [
    "**1.   Criar uma função que imprima os números pares de 0 a 100**\n"
   ]
  },
  {
   "cell_type": "code",
   "execution_count": null,
   "metadata": {
    "colab": {
     "autoexec": {
      "startup": false,
      "wait_interval": 0
     }
    },
    "colab_type": "code",
    "id": "hnci8pd490rR"
   },
   "outputs": [],
   "source": [
    "# Resposta do exercício 1\n"
   ]
  },
  {
   "cell_type": "markdown",
   "metadata": {
    "colab_type": "text",
    "id": "VzTjPFgw-HN0"
   },
   "source": [
    "**2.   Criar uma função que receba duas matrizes 3 x 3 e multiplique um elemento pelo outro.**\n",
    "\n",
    "$\\begin{bmatrix}\n",
    "  1 & 2 & 3 \\\\\n",
    "  4 & 5 & 6 \\\\\n",
    "  7 & 8 & 9 \\\\\n",
    "\\end{bmatrix} *\n",
    "\\begin{bmatrix}\n",
    "  2 & 3 & 4 \\\\\n",
    "  2 & 3 & 4 \\\\\n",
    "  2 & 3 & 4 \\\\\n",
    "\\end{bmatrix} =\n",
    "\\begin{bmatrix}\n",
    "  2 & 6 & 12 \\\\\n",
    "  8 & 15 & 24 \\\\\n",
    "  14 & 24 & 36 \\\\\n",
    "\\end{bmatrix}$"
   ]
  },
  {
   "cell_type": "code",
   "execution_count": null,
   "metadata": {
    "colab": {
     "autoexec": {
      "startup": false,
      "wait_interval": 0
     }
    },
    "colab_type": "code",
    "id": "rTGjAvZ5-1Jo"
   },
   "outputs": [],
   "source": [
    "# Resposta do exercício 2\n"
   ]
  },
  {
   "cell_type": "markdown",
   "metadata": {
    "colab_type": "text",
    "id": "68KYWSvI-6Gn"
   },
   "source": [
    "**3.   Criar uma função que multiplique um array 1 x 4 pelo valor 5 (sem utilizar a função map).**\n",
    "\n",
    "$\\begin{bmatrix}\n",
    "  1 & 2 & 3 & 4 \\\\\n",
    "\\end{bmatrix} *\n",
    "5 =\n",
    "\\begin{bmatrix}\n",
    "  5 & 10 & 15 & 20 \\\\  \n",
    "\\end{bmatrix}$\n"
   ]
  },
  {
   "cell_type": "code",
   "execution_count": null,
   "metadata": {
    "colab": {
     "autoexec": {
      "startup": false,
      "wait_interval": 0
     }
    },
    "colab_type": "code",
    "id": "bhPNs3vm_bq2"
   },
   "outputs": [],
   "source": [
    "# Resposta do exercício 3\n"
   ]
  },
  {
   "cell_type": "markdown",
   "metadata": {
    "colab_type": "text",
    "id": "NoEfY_8u_gH-"
   },
   "source": [
    "**4.   Criar uma função que multiplique um array 1 x 4 pelo valor 5 (utilizando map).**\n",
    "\n",
    "$\\begin{bmatrix}\n",
    "  1 & 2 & 3 & 4 \\\\\n",
    "\\end{bmatrix} *\n",
    "5 =\n",
    "\\begin{bmatrix}\n",
    "  5 & 10 & 15 & 20 \\\\  \n",
    "\\end{bmatrix}$"
   ]
  },
  {
   "cell_type": "code",
   "execution_count": null,
   "metadata": {
    "colab": {
     "autoexec": {
      "startup": false,
      "wait_interval": 0
     }
    },
    "colab_type": "code",
    "id": "A-JFyMKR_q_1"
   },
   "outputs": [],
   "source": [
    "# Resposta do exercício 4\n"
   ]
  },
  {
   "cell_type": "markdown",
   "metadata": {
    "colab_type": "text",
    "id": "0CfA5li6BqeJ"
   },
   "source": [
    "**5.   Criar uma função que receba um list \"entrada\" e retorne um list sem itens duplicados.**\n",
    "\n",
    "entrada = ['A', 'B', 'C', 'D', 'C', 'E', 'A', 'F', 'D']\n",
    "\n",
    "resultado_esperado = ['A', 'B', 'C', 'D', 'E', 'F']"
   ]
  },
  {
   "cell_type": "code",
   "execution_count": null,
   "metadata": {
    "colab": {
     "autoexec": {
      "startup": false,
      "wait_interval": 0
     }
    },
    "colab_type": "code",
    "id": "3jJglKwACv1v"
   },
   "outputs": [],
   "source": [
    "# Resposta do exercício 5\n"
   ]
  },
  {
   "cell_type": "markdown",
   "metadata": {
    "colab_type": "text",
    "id": "NMGnuoXqECG8"
   },
   "source": [
    "**6.   Dada a lista abaixo, criar uma função que retorne um list com apenas os números pares.**\n",
    "\n",
    "entrada = [1, 66, 14, 51, 47, 12, 99, 102, 15]\n",
    "\n",
    "resultado_esperado = [66, 14, 12, 102]"
   ]
  },
  {
   "cell_type": "code",
   "execution_count": null,
   "metadata": {
    "colab": {
     "autoexec": {
      "startup": false,
      "wait_interval": 0
     }
    },
    "colab_type": "code",
    "id": "BgZcb814EdqL"
   },
   "outputs": [],
   "source": [
    "# Resposta do exercício 6\n"
   ]
  }
 ],
 "metadata": {
  "colab": {
   "collapsed_sections": [],
   "default_view": {},
   "name": "exercicio_1.ipynb",
   "provenance": [],
   "version": "0.3.2",
   "views": {}
  },
  "kernelspec": {
   "display_name": "Python 3",
   "language": "python",
   "name": "python3"
  },
  "language_info": {
   "codemirror_mode": {
    "name": "ipython",
    "version": 3
   },
   "file_extension": ".py",
   "mimetype": "text/x-python",
   "name": "python",
   "nbconvert_exporter": "python",
   "pygments_lexer": "ipython3",
   "version": "3.6.3"
  }
 },
 "nbformat": 4,
 "nbformat_minor": 2
}
