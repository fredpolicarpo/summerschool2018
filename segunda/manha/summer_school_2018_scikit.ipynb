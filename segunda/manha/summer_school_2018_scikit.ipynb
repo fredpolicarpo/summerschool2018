{
 "cells": [
  {
   "cell_type": "markdown",
   "metadata": {
    "colab_type": "text",
    "id": "dek3rdAVbzbc"
   },
   "source": [
    "![alt text](http://infra.heurys.com.br/summerschool/scikit.01.png)"
   ]
  },
  {
   "cell_type": "markdown",
   "metadata": {
    "colab_type": "text",
    "id": "LeK72Yy1g8R8"
   },
   "source": [
    "**Importando as bibliotecas necessárias**\n",
    "* **numpy** para trabalharmos com os arrays\n",
    "\n",
    "* **matplotlib** para criarmos o gráfico com o resultado\n",
    "\n",
    "* **sklearn** para criar o modelo de regressão linear."
   ]
  },
  {
   "cell_type": "code",
   "execution_count": null,
   "metadata": {
    "colab": {
     "autoexec": {
      "startup": false,
      "wait_interval": 0
     }
    },
    "colab_type": "code",
    "id": "VPbkV1OKhnHU"
   },
   "outputs": [],
   "source": [
    "import numpy as np\n",
    "import matplotlib.pyplot as plt\n",
    "from sklearn import linear_model"
   ]
  },
  {
   "cell_type": "markdown",
   "metadata": {
    "colab_type": "text",
    "id": "NORf9GSbhqt8"
   },
   "source": [
    "** Criando os dados para treinar nosso modelo **"
   ]
  },
  {
   "cell_type": "code",
   "execution_count": null,
   "metadata": {
    "colab": {
     "autoexec": {
      "startup": false,
      "wait_interval": 0
     }
    },
    "colab_type": "code",
    "id": "vSJwPu1ih-xo"
   },
   "outputs": [],
   "source": [
    "# vamos criar os array com os dados de treinamento\n",
    "x_train = np.array([730, 880, 505, 529, 872, 907, 926, 679, 452]).reshape(-1,1)\n",
    "y_train = np.array([9.85, 10.20, 6.44, 7.07, 9.91, 11.20, 11.03, 7.24, 9.43]).reshape(-1,1)\n",
    "\n",
    "print('Qtde de Clientes:\\n',x_train,'\\n')\n",
    "print('Total de Vendas:\\n',y_train,'\\n')"
   ]
  },
  {
   "cell_type": "markdown",
   "metadata": {
    "colab_type": "text",
    "id": "oZtOBJTpiqmI"
   },
   "source": [
    "**Criando o modelo de regressão linear**"
   ]
  },
  {
   "cell_type": "code",
   "execution_count": null,
   "metadata": {
    "colab": {
     "autoexec": {
      "startup": false,
      "wait_interval": 0
     }
    },
    "colab_type": "code",
    "id": "-QVvA4aDiwso"
   },
   "outputs": [],
   "source": [
    "model = linear_model.LinearRegression()"
   ]
  },
  {
   "cell_type": "markdown",
   "metadata": {
    "colab_type": "text",
    "id": "3GW5GBjhizRA"
   },
   "source": [
    "**Vamos treinar nosso modelo**"
   ]
  },
  {
   "cell_type": "code",
   "execution_count": null,
   "metadata": {
    "colab": {
     "autoexec": {
      "startup": false,
      "wait_interval": 0
     }
    },
    "colab_type": "code",
    "id": "uls78KmBi3_J"
   },
   "outputs": [],
   "source": [
    "model.fit(x_train, y_train)"
   ]
  },
  {
   "cell_type": "markdown",
   "metadata": {
    "colab_type": "text",
    "id": "uU8itaKRi_s5"
   },
   "source": [
    "**Testando o nosso modelo com um conjunto de dados**"
   ]
  },
  {
   "cell_type": "code",
   "execution_count": null,
   "metadata": {
    "colab": {
     "autoexec": {
      "startup": false,
      "wait_interval": 0
     }
    },
    "colab_type": "code",
    "id": "BuOj1kQ2jDdI"
   },
   "outputs": [],
   "source": [
    "x_test = np.array([500, 750, 1000]).reshape(-1, 1)\n",
    "y_test = model.predict(x_test)\n",
    "\n",
    "print('Clientes Estimados:\\n', x_test,'\\n')\n",
    "print('Venda Total Prevista:\\n', y_test,'\\n')"
   ]
  },
  {
   "cell_type": "markdown",
   "metadata": {
    "colab_type": "text",
    "id": "VDAxpD-MjZ8j"
   },
   "source": [
    "**Vamos capturar os resultados**"
   ]
  },
  {
   "cell_type": "code",
   "execution_count": null,
   "metadata": {
    "colab": {
     "autoexec": {
      "startup": false,
      "wait_interval": 0
     }
    },
    "colab_type": "code",
    "id": "pvmhFvHrjdza"
   },
   "outputs": [],
   "source": [
    "print('Intercept', model.intercept_)\n",
    "print('Coefficient: ', model.coef_[0][0])"
   ]
  },
  {
   "cell_type": "markdown",
   "metadata": {
    "colab_type": "text",
    "id": "hxXF_Tn1jl1T"
   },
   "source": [
    "**Vamos mostrar o gráfico**"
   ]
  },
  {
   "cell_type": "code",
   "execution_count": null,
   "metadata": {
    "colab": {
     "autoexec": {
      "startup": false,
      "wait_interval": 0
     }
    },
    "colab_type": "code",
    "id": "HS_SDXYJgv_E"
   },
   "outputs": [],
   "source": [
    "plt.scatter(x_train, y_train, color='blue')\n",
    "plt.scatter(x_test, y_test, color='green')\n",
    "plt.plot(x_test, y_test, color='red')\n",
    "plt.title('Regressão Linear', fontsize=16)\n",
    "plt.xlabel('x = Clientes', fontsize=13)\n",
    "plt.ylabel('y = Vendas', fontsize=13)\n",
    "plt.show()"
   ]
  }
 ],
 "metadata": {
  "colab": {
   "collapsed_sections": [],
   "default_view": {},
   "name": "summer_school_2018_scikit.ipynb",
   "provenance": [],
   "version": "0.3.2",
   "views": {}
  },
  "kernelspec": {
   "display_name": "Python 3",
   "language": "python",
   "name": "python3"
  },
  "language_info": {
   "codemirror_mode": {
    "name": "ipython",
    "version": 3
   },
   "file_extension": ".py",
   "mimetype": "text/x-python",
   "name": "python",
   "nbconvert_exporter": "python",
   "pygments_lexer": "ipython3",
   "version": "3.6.3"
  }
 },
 "nbformat": 4,
 "nbformat_minor": 2
}
