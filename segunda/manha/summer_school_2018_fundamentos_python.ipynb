{
 "cells": [
  {
   "cell_type": "markdown",
   "metadata": {
    "colab_type": "text",
    "id": "KHyMlUNYJ6cA"
   },
   "source": [
    "![alt text](http://infra.heurys.com.br/summerschool/fundamentos.000.png)"
   ]
  },
  {
   "cell_type": "markdown",
   "metadata": {
    "colab_type": "text",
    "id": "kaRghUnAJRrw"
   },
   "source": [
    "![alt text](http://infra.heurys.com.br/summerschool/fundamentos.001.PNG\n",
    ")"
   ]
  },
  {
   "cell_type": "markdown",
   "metadata": {
    "colab_type": "text",
    "id": "JWA-jZwLlFzN"
   },
   "source": [
    "**Tipo de dados STRING**"
   ]
  },
  {
   "cell_type": "code",
   "execution_count": null,
   "metadata": {
    "colab": {
     "autoexec": {
      "startup": false,
      "wait_interval": 0
     }
    },
    "colab_type": "code",
    "id": "3AJ3mFeaj5R4"
   },
   "outputs": [],
   "source": [
    "nome = \"Summer School\"\n",
    "type(nome)"
   ]
  },
  {
   "cell_type": "code",
   "execution_count": null,
   "metadata": {
    "colab": {
     "autoexec": {
      "startup": false,
      "wait_interval": 0
     }
    },
    "colab_type": "code",
    "id": "ddlcvYxrkmO8"
   },
   "outputs": [],
   "source": [
    "nome = 'Summer School'\n",
    "type(nome)"
   ]
  },
  {
   "cell_type": "markdown",
   "metadata": {
    "colab_type": "text",
    "id": "PCk5ssl-lOB2"
   },
   "source": [
    "**Tipo de dados INTEGER**"
   ]
  },
  {
   "cell_type": "code",
   "execution_count": null,
   "metadata": {
    "colab": {
     "autoexec": {
      "startup": false,
      "wait_interval": 0
     }
    },
    "colab_type": "code",
    "id": "vfh3W1HYktzh"
   },
   "outputs": [],
   "source": [
    "nome = 1\n",
    "type(nome)"
   ]
  },
  {
   "cell_type": "markdown",
   "metadata": {
    "colab_type": "text",
    "id": "s4a0pCGglTJt"
   },
   "source": [
    "**Tipo de dados FLOAT**"
   ]
  },
  {
   "cell_type": "code",
   "execution_count": null,
   "metadata": {
    "colab": {
     "autoexec": {
      "startup": false,
      "wait_interval": 0
     }
    },
    "colab_type": "code",
    "id": "GEcO-kcMkxIr"
   },
   "outputs": [],
   "source": [
    "nome = 1.10\n",
    "type(nome)"
   ]
  },
  {
   "cell_type": "markdown",
   "metadata": {
    "colab_type": "text",
    "id": "rSU1vCYMlVxt"
   },
   "source": [
    "**Tipo de dados COMPLEX**"
   ]
  },
  {
   "cell_type": "code",
   "execution_count": null,
   "metadata": {
    "colab": {
     "autoexec": {
      "startup": false,
      "wait_interval": 0
     }
    },
    "colab_type": "code",
    "id": "JCPnxlzLk2Zb"
   },
   "outputs": [],
   "source": [
    "nome = 1.10j\n",
    "type(nome)"
   ]
  },
  {
   "cell_type": "markdown",
   "metadata": {
    "colab_type": "text",
    "id": "cYfQp4PPlZMN"
   },
   "source": [
    "**Tipo de dados BOOL**"
   ]
  },
  {
   "cell_type": "code",
   "execution_count": null,
   "metadata": {
    "colab": {
     "autoexec": {
      "startup": false,
      "wait_interval": 0
     }
    },
    "colab_type": "code",
    "id": "JFzHOZ7ik_ZW"
   },
   "outputs": [],
   "source": [
    "nome = True\n",
    "type(nome)"
   ]
  },
  {
   "cell_type": "markdown",
   "metadata": {
    "colab_type": "text",
    "id": "DwEGpZM_lymg"
   },
   "source": [
    "**Precisão do tipo FLOAT**"
   ]
  },
  {
   "cell_type": "code",
   "execution_count": null,
   "metadata": {
    "colab": {
     "autoexec": {
      "startup": false,
      "wait_interval": 0
     }
    },
    "colab_type": "code",
    "id": "vhStN6VZl3HY"
   },
   "outputs": [],
   "source": [
    "print('Teste 1 - [05]:', 2 == 2.02222)\n",
    "print('Teste 2 - [08]:', 2 == 2.00002222)\n",
    "print('Teste 3 - [11]:', 2 == 2.00000002222)\n",
    "print('Teste 4 - [14]:', 2 == 2.00000000002222)\n",
    "print('Teste 5 - [17]:', 2 == 2.00000000000002222)\n",
    "print('Teste 6 - [20]:', 2 == 2.00000000000000002222)"
   ]
  },
  {
   "cell_type": "code",
   "execution_count": null,
   "metadata": {
    "colab": {
     "autoexec": {
      "startup": false,
      "wait_interval": 0
     }
    },
    "colab_type": "code",
    "id": "GG-IKbydm_hl"
   },
   "outputs": [],
   "source": [
    "from decimal import Decimal\n",
    "\n",
    "Decimal(2.0) == Decimal(2.0000000000000002222)"
   ]
  },
  {
   "cell_type": "markdown",
   "metadata": {
    "colab_type": "text",
    "id": "6BC_OLJ2KNCy"
   },
   "source": [
    "![alt text](http://infra.heurys.com.br/summerschool/fundamentos.002.png)"
   ]
  },
  {
   "cell_type": "markdown",
   "metadata": {
    "colab_type": "text",
    "id": "AVtzDzouLRXf"
   },
   "source": [
    "**List - exemplos **"
   ]
  },
  {
   "cell_type": "code",
   "execution_count": null,
   "metadata": {
    "colab": {
     "autoexec": {
      "startup": false,
      "wait_interval": 0
     }
    },
    "colab_type": "code",
    "id": "SnIhSyZfKlSb"
   },
   "outputs": [],
   "source": [
    "# Declarando uma lista\n",
    "lista = [1, 2]\n",
    "print(lista)"
   ]
  },
  {
   "cell_type": "code",
   "execution_count": null,
   "metadata": {
    "colab": {
     "autoexec": {
      "startup": false,
      "wait_interval": 0
     }
    },
    "colab_type": "code",
    "id": "fDH4gk_UKxxk"
   },
   "outputs": [],
   "source": [
    "# Incluindo no fim da lista\n",
    "lista.append(3)\n",
    "lista.append(4)\n",
    "print(lista)"
   ]
  },
  {
   "cell_type": "code",
   "execution_count": null,
   "metadata": {
    "colab": {
     "autoexec": {
      "startup": false,
      "wait_interval": 0
     }
    },
    "colab_type": "code",
    "id": "C1sEGdACK3VG"
   },
   "outputs": [],
   "source": [
    "# Removendo itens da lista\n",
    "item_1 = lista.pop()\n",
    "item_2 = lista.pop()\n",
    "print(lista)\n",
    "print('Itens excluídos', item_1, item_2)"
   ]
  },
  {
   "cell_type": "code",
   "execution_count": null,
   "metadata": {
    "colab": {
     "autoexec": {
      "startup": false,
      "wait_interval": 0
     }
    },
    "colab_type": "code",
    "id": "2NsZ_jW0LX0o"
   },
   "outputs": [],
   "source": [
    "# Removendo itens da lista\n",
    "lista = [1, 2, 3, 2, 2]\n",
    "print('Lista=',lista)\n",
    "\n",
    "lista.remove(2)\n",
    "print('Remove o valor 2=', lista)\n",
    "\n",
    "lista.remove(2)\n",
    "print('Remove outro o valor 2=',lista)"
   ]
  },
  {
   "cell_type": "code",
   "execution_count": null,
   "metadata": {
    "colab": {
     "autoexec": {
      "startup": false,
      "wait_interval": 0
     }
    },
    "colab_type": "code",
    "id": "ciiBxPEyL2dL"
   },
   "outputs": [],
   "source": [
    "# Recuperando e acessando um valor da lista\n",
    "posicao_item_valor_3 = lista.index(3)\n",
    "print('Posição do valor 3?', posicao_item_valor_3)\n",
    "\n",
    "print('Valor: ', lista[posicao_item_valor_3])"
   ]
  },
  {
   "cell_type": "code",
   "execution_count": null,
   "metadata": {
    "colab": {
     "autoexec": {
      "startup": false,
      "wait_interval": 0
     }
    },
    "colab_type": "code",
    "id": "xcY1_B3fMd5O"
   },
   "outputs": [],
   "source": [
    "# Ordenando a Lista\n",
    "lista.sort()\n",
    "print(lista)"
   ]
  },
  {
   "cell_type": "code",
   "execution_count": null,
   "metadata": {
    "colab": {
     "autoexec": {
      "startup": false,
      "wait_interval": 0
     }
    },
    "colab_type": "code",
    "id": "ogIkNPGWMmsO"
   },
   "outputs": [],
   "source": [
    "# Incluindo itens na lista\n",
    "# list.insert(posição, valor)\n",
    "\n",
    "lista.insert(0, 9)\n",
    "print(lista)\n",
    "\n",
    "lista.insert(-1, 8)\n",
    "print(lista)\n"
   ]
  },
  {
   "cell_type": "code",
   "execution_count": null,
   "metadata": {
    "colab": {
     "autoexec": {
      "startup": false,
      "wait_interval": 0
     }
    },
    "colab_type": "code",
    "id": "v7q6IRNvORHm"
   },
   "outputs": [],
   "source": [
    "# Tamanho da Lista\n",
    "tamanho = len(lista)\n",
    "print('Tamanho da lista:', tamanho)"
   ]
  },
  {
   "cell_type": "markdown",
   "metadata": {
    "colab_type": "text",
    "id": "uYeGDfH3Np_0"
   },
   "source": [
    "**Tuple - exemplos **"
   ]
  },
  {
   "cell_type": "code",
   "execution_count": null,
   "metadata": {
    "colab": {
     "autoexec": {
      "startup": false,
      "wait_interval": 0
     }
    },
    "colab_type": "code",
    "id": "g7RWT4zENpjk"
   },
   "outputs": [],
   "source": [
    "# Declarando uma tupla\n",
    "tupla = (1, 2, 3)\n",
    "print(tupla)\n",
    "\n",
    "# Recuperando itens da tupla\n",
    "item_valor_3 = tupla.index(3)\n",
    "print('Posição do item de valor 3: ', item_valor_3)"
   ]
  },
  {
   "cell_type": "code",
   "execution_count": null,
   "metadata": {
    "colab": {
     "autoexec": {
      "startup": false,
      "wait_interval": 0
     }
    },
    "colab_type": "code",
    "id": "sD9dBtfNOEsv"
   },
   "outputs": [],
   "source": [
    "# Tamanho da Tupla\n",
    "tamanho = len(tupla)\n",
    "print('Tamanho da tupla:', tamanho)"
   ]
  },
  {
   "cell_type": "code",
   "execution_count": null,
   "metadata": {
    "colab": {
     "autoexec": {
      "startup": false,
      "wait_interval": 0
     }
    },
    "colab_type": "code",
    "id": "Gf9tcXuUOVbH"
   },
   "outputs": [],
   "source": [
    "# Tentando alterar a tupla\n",
    "tupla[0] = 2"
   ]
  },
  {
   "cell_type": "markdown",
   "metadata": {
    "colab_type": "text",
    "id": "SjdXUBhMOhhh"
   },
   "source": [
    "**Dictionary - exemplos **"
   ]
  },
  {
   "cell_type": "code",
   "execution_count": null,
   "metadata": {
    "colab": {
     "autoexec": {
      "startup": false,
      "wait_interval": 0
     }
    },
    "colab_type": "code",
    "id": "5IeXifAOOgrH"
   },
   "outputs": [],
   "source": [
    "# Declarando um dicionário\n",
    "dicionario = {'treinamento': 'Summer School', 'ano': 2018}\n",
    "print(dicionario)"
   ]
  },
  {
   "cell_type": "code",
   "execution_count": null,
   "metadata": {
    "colab": {
     "autoexec": {
      "startup": false,
      "wait_interval": 0
     }
    },
    "colab_type": "code",
    "id": "a-PD5kM_O_0d"
   },
   "outputs": [],
   "source": [
    "# Recuperando os itens da tupla\n",
    "array_itens = dicionario.items()\n",
    "print(array_itens)"
   ]
  },
  {
   "cell_type": "code",
   "execution_count": null,
   "metadata": {
    "colab": {
     "autoexec": {
      "startup": false,
      "wait_interval": 0
     }
    },
    "colab_type": "code",
    "id": "nqMCN2KcPUMU"
   },
   "outputs": [],
   "source": [
    "# Recuperando um valor pela chave\n",
    "treinamento = dicionario.get('treinamento')\n",
    "print(treinamento)"
   ]
  },
  {
   "cell_type": "code",
   "execution_count": null,
   "metadata": {
    "colab": {
     "autoexec": {
      "startup": false,
      "wait_interval": 0
     }
    },
    "colab_type": "code",
    "id": "JxGSEbz0PjZh"
   },
   "outputs": [],
   "source": [
    "# Recuperando as chaves do dicionário\n",
    "chaves = dicionario.keys()\n",
    "print(chaves)"
   ]
  },
  {
   "cell_type": "code",
   "execution_count": null,
   "metadata": {
    "colab": {
     "autoexec": {
      "startup": false,
      "wait_interval": 0
     }
    },
    "colab_type": "code",
    "id": "7hLbjN_5Ptn5"
   },
   "outputs": [],
   "source": [
    "# Recuperando os valores do dicionário\n",
    "valores = dicionario.values()\n",
    "print(valores)"
   ]
  },
  {
   "cell_type": "code",
   "execution_count": null,
   "metadata": {
    "colab": {
     "autoexec": {
      "startup": false,
      "wait_interval": 0
     }
    },
    "colab_type": "code",
    "id": "skN95ahEP5dK"
   },
   "outputs": [],
   "source": [
    "# Incluindo uma chave/valor no dicionário\n",
    "dicionario['pais'] = 'Brasil'\n",
    "print(dicionario)"
   ]
  },
  {
   "cell_type": "code",
   "execution_count": null,
   "metadata": {
    "colab": {
     "autoexec": {
      "startup": false,
      "wait_interval": 0
     }
    },
    "colab_type": "code",
    "id": "PjyYSjbFQGis"
   },
   "outputs": [],
   "source": [
    "# Excluindo uma chave/valor no dicionário\n",
    "item_excluido = dicionario.pop('ano')\n",
    "print(dicionario)"
   ]
  },
  {
   "cell_type": "markdown",
   "metadata": {
    "colab_type": "text",
    "id": "hn6CZMqAQfGq"
   },
   "source": [
    "**Set - exemplos **"
   ]
  },
  {
   "cell_type": "code",
   "execution_count": null,
   "metadata": {
    "colab": {
     "autoexec": {
      "startup": false,
      "wait_interval": 0
     }
    },
    "colab_type": "code",
    "id": "nzW3iQauQhB5"
   },
   "outputs": [],
   "source": [
    "# Declarando um conjunto\n",
    "conjunto = set('abcde')\n",
    "print(conjunto)"
   ]
  },
  {
   "cell_type": "code",
   "execution_count": null,
   "metadata": {
    "colab": {
     "autoexec": {
      "startup": false,
      "wait_interval": 0
     }
    },
    "colab_type": "code",
    "id": "w6L5SQ2RS3Qe"
   },
   "outputs": [],
   "source": [
    "# Adicionando itens ao conjunto\n",
    "conjunto.add('m')\n",
    "print(conjunto)\n",
    "\n",
    "conjunto.add('m')\n",
    "conjunto.add('m')\n",
    "conjunto.add('m')\n",
    "print(conjunto)"
   ]
  },
  {
   "cell_type": "code",
   "execution_count": null,
   "metadata": {
    "colab": {
     "autoexec": {
      "startup": false,
      "wait_interval": 0
     }
    },
    "colab_type": "code",
    "id": "LyOb3IrTTHxm"
   },
   "outputs": [],
   "source": [
    "# Removendo um item do conjunto\n",
    "conjunto.remove('m')\n",
    "print(conjunto)\n",
    "\n",
    "item_excluido = conjunto.pop()\n",
    "print('Item excluído:', item_excluido)\n",
    "\n",
    "print(conjunto)"
   ]
  },
  {
   "cell_type": "code",
   "execution_count": null,
   "metadata": {
    "colab": {
     "autoexec": {
      "startup": false,
      "wait_interval": 0
     }
    },
    "colab_type": "code",
    "id": "GndKNKo7Tl12"
   },
   "outputs": [],
   "source": [
    "# Verificando se um item pode ser incluído no conjunto\n",
    "c_pode = conjunto.isdisjoint('c')\n",
    "print('c pode ?', c_pode)\n",
    "\n",
    "m_pode = conjunto.isdisjoint('m')\n",
    "print('m pode ?', m_pode)"
   ]
  },
  {
   "cell_type": "markdown",
   "metadata": {
    "colab_type": "text",
    "id": "H64oi700WKDM"
   },
   "source": [
    "![alt text](http://infra.heurys.com.br/summerschool/fundamentos.003.PNG\n",
    ")"
   ]
  },
  {
   "cell_type": "markdown",
   "metadata": {
    "colab_type": "text",
    "id": "NFjbb5T9YWJN"
   },
   "source": [
    "**For in, range - exemplos **"
   ]
  },
  {
   "cell_type": "code",
   "execution_count": null,
   "metadata": {
    "colab": {
     "autoexec": {
      "startup": false,
      "wait_interval": 0
     }
    },
    "colab_type": "code",
    "id": "aSr4VFdcTPsH"
   },
   "outputs": [],
   "source": [
    "# Declarando e percorrendo uma lista\n",
    "lista = ['a', 'b', 'c', 'd']\n",
    "for letra in lista:\n",
    "  print('letra:', letra)"
   ]
  },
  {
   "cell_type": "code",
   "execution_count": null,
   "metadata": {
    "colab": {
     "autoexec": {
      "startup": false,
      "wait_interval": 0
     }
    },
    "colab_type": "code",
    "id": "T2A7x8-MWo83"
   },
   "outputs": [],
   "source": [
    "# Navegando por uma sequencia numérica\n",
    "# range(start, stop, step)\n",
    "for numero in range(0, 10):\n",
    "  print('numero:', numero)\n",
    "\n",
    "print('imprimindo os pares')\n",
    "for numero in range(0, 10, 2):\n",
    "  print('numero:', numero)\n"
   ]
  },
  {
   "cell_type": "code",
   "execution_count": null,
   "metadata": {
    "colab": {
     "autoexec": {
      "startup": false,
      "wait_interval": 0
     }
    },
    "colab_type": "code",
    "id": "jkSHHY0oXRvg"
   },
   "outputs": [],
   "source": [
    "# Declarando um dicionário\n",
    "dicionario = {'treinamento': 'Summer School', 'ano': 2018}\n",
    "for chave, valor in dicionario.items():\n",
    "  print(chave,'-',valor)"
   ]
  },
  {
   "cell_type": "code",
   "execution_count": null,
   "metadata": {
    "colab": {
     "autoexec": {
      "startup": false,
      "wait_interval": 0
     }
    },
    "colab_type": "code",
    "id": "5vjsA7RhXn6I"
   },
   "outputs": [],
   "source": [
    "# Declarando uma tupla\n",
    "tupla = ('a', 'b', 'c', 'd')\n",
    "\n",
    "# Mostrando os dois primeiros itens\n",
    "for letra in tupla[:2]:\n",
    "  print('letra:',letra)\n",
    "\n",
    "print('\\n')\n",
    "\n",
    "# Mostrando os dois últimos itens\n",
    "for letra in tupla[2:]:\n",
    "  print('letra:', letra)"
   ]
  },
  {
   "cell_type": "code",
   "execution_count": null,
   "metadata": {
    "colab": {
     "autoexec": {
      "startup": false,
      "wait_interval": 0
     }
    },
    "colab_type": "code",
    "id": "I1sOcKMzJkZc"
   },
   "outputs": [],
   "source": [
    "# Criando uma lista\n",
    "lista_a = [1, 2, 3]\n",
    "\n",
    "# Criando outra lista somando 5 a cada elemento\n",
    "lista_a_mais_5 = [item_a + 5 for item_a in lista_a]\n",
    "\n",
    "print('Resultado: ',lista_a_mais_5)\n",
    "\n",
    "# Criando outra lista verificando se o item é maior que 1\n",
    "lista_a_item_maior_que_1 = [item_a for item_a in lista_a if item_a > 1]\n",
    "\n",
    "print('Resultado: ',lista_a_item_maior_que_1)"
   ]
  },
  {
   "cell_type": "markdown",
   "metadata": {
    "colab_type": "text",
    "id": "flOe50UFYc2Z"
   },
   "source": [
    "**len, zip - exemplos **"
   ]
  },
  {
   "cell_type": "code",
   "execution_count": null,
   "metadata": {
    "colab": {
     "autoexec": {
      "startup": false,
      "wait_interval": 0
     }
    },
    "colab_type": "code",
    "id": "Lk_jpswXYbum"
   },
   "outputs": [],
   "source": [
    "# Unindo dois objetos\n",
    "lista_a = [1, 2, 3]\n",
    "tupla_b = ('Summer', 'School', '2018')\n",
    "\n",
    "uniao = zip(lista_a, tupla_b)\n",
    "print(uniao)\n",
    "\n",
    "for a,b in uniao:\n",
    "  print(a, '>', b)\n",
    "  \n",
    "# Verificando o tamanho de um objeto\n",
    "tamanho = len(lista_a)\n",
    "print('tamanho lista A:', tamanho)\n",
    "\n",
    "tamanho = len(tupla_b)\n",
    "print('tamanho tupla B:', tamanho)"
   ]
  },
  {
   "cell_type": "markdown",
   "metadata": {
    "colab_type": "text",
    "id": "seXvjCo7Z2U8"
   },
   "source": [
    "**Matriz**\n",
    "\n",
    "$\\begin{bmatrix}\n",
    "  1 & 2 & 3 \\\\\n",
    "  4 & 5 & 6 \\\\\n",
    "  7 & 8 & 9 \\\\\n",
    "\\end{bmatrix}$"
   ]
  },
  {
   "cell_type": "code",
   "execution_count": null,
   "metadata": {
    "colab": {
     "autoexec": {
      "startup": false,
      "wait_interval": 0
     }
    },
    "colab_type": "code",
    "id": "G7KsgO9FaHZ1"
   },
   "outputs": [],
   "source": [
    "# Declarando uma matriz\n",
    "matriz = [[1,2,3],[4,5,6],[7,8,9]]\n",
    "print(matriz)"
   ]
  },
  {
   "cell_type": "code",
   "execution_count": null,
   "metadata": {
    "colab": {
     "autoexec": {
      "startup": false,
      "wait_interval": 0
     }
    },
    "colab_type": "code",
    "id": "D7izKcdtaSAi"
   },
   "outputs": [],
   "source": [
    "matriz = [[1,2,3],(4,5,6),{7,8,9}]\n",
    "print(matriz)\n",
    "\n",
    "for objeto in matriz:\n",
    "  print(type(objeto))"
   ]
  },
  {
   "cell_type": "markdown",
   "metadata": {
    "colab_type": "text",
    "id": "6hxqOL_-IuWn"
   },
   "source": [
    "![alt text](http://infra.heurys.com.br/summerschool/fundamentos.004.PNG\n",
    ")"
   ]
  },
  {
   "cell_type": "markdown",
   "metadata": {
    "colab_type": "text",
    "id": "w2J5uhFXOGd1"
   },
   "source": [
    "**Função sem retorno**"
   ]
  },
  {
   "cell_type": "code",
   "execution_count": null,
   "metadata": {
    "colab": {
     "autoexec": {
      "startup": false,
      "wait_interval": 0
     }
    },
    "colab_type": "code",
    "id": "QP5Mf0ZUOLAd"
   },
   "outputs": [],
   "source": [
    "# função sem retorno e sem parâmetros\n",
    "def funcao():\n",
    "  lista = [1, 2, 3]\n",
    "  print('Lista: ', lista)\n",
    "  \n",
    "# Chamando a função\n",
    "funcao()"
   ]
  },
  {
   "cell_type": "markdown",
   "metadata": {
    "colab_type": "text",
    "id": "IAw_dtgeQPB8"
   },
   "source": [
    "**Função com parâmetros, parâmetros padrão**"
   ]
  },
  {
   "cell_type": "code",
   "execution_count": null,
   "metadata": {
    "colab": {
     "autoexec": {
      "startup": false,
      "wait_interval": 0
     }
    },
    "colab_type": "code",
    "id": "vHA5pCkTOtaw"
   },
   "outputs": [],
   "source": [
    "# função sem retorno e com parâmetro\n",
    "def funcao_com_parametro(valor):\n",
    "  print('O dobro de',valor,'é', valor * 2)\n",
    "\n",
    "# Chamando a função\n",
    "funcao_com_parametro(5)"
   ]
  },
  {
   "cell_type": "code",
   "execution_count": 1,
   "metadata": {
    "colab": {
     "autoexec": {
      "startup": false,
      "wait_interval": 0
     }
    },
    "colab_type": "code",
    "id": "plHfcJo4PVoo"
   },
   "outputs": [
    {
     "name": "stdout",
     "output_type": "stream",
     "text": [
      "10 dividido por 5 é 2.0\n",
      "10 dividido por 2 é 5.0\n"
     ]
    }
   ],
   "source": [
    "# função sem retorno e com parâmetros padrão\n",
    "def funcao_com_parametro(valor, divisor=5):\n",
    "  print(valor,'dividido por', divisor, 'é', valor / divisor)\n",
    "\n",
    "# Chamando a função\n",
    "funcao_com_parametro(10)\n",
    "funcao_com_parametro(10, 2)"
   ]
  },
  {
   "cell_type": "markdown",
   "metadata": {
    "colab_type": "text",
    "id": "fSz4oSeMQW-r"
   },
   "source": [
    "**Função com lista de parâmetros**"
   ]
  },
  {
   "cell_type": "code",
   "execution_count": 2,
   "metadata": {
    "colab": {
     "autoexec": {
      "startup": false,
      "wait_interval": 0
     }
    },
    "colab_type": "code",
    "id": "CZjzD7xJQb80"
   },
   "outputs": [
    {
     "name": "stdout",
     "output_type": "stream",
     "text": [
      "valor: 1\n",
      "valor: 2\n",
      "valor: 3\n",
      "valor: 4\n",
      "valor: 5\n",
      "Soma dos itens:  15\n"
     ]
    }
   ],
   "source": [
    "# função sem retorno e com lista de parâmetros\n",
    "def funcao_com_lista_parametro(*valores):\n",
    "  for valor in valores:\n",
    "    print('valor:', valor)\n",
    "    \n",
    "  print('Soma dos itens: ', sum(valores))\n",
    "\n",
    "# Chamando a função\n",
    "funcao_com_lista_parametro(1,2,3,4,5)"
   ]
  },
  {
   "cell_type": "code",
   "execution_count": 4,
   "metadata": {
    "colab": {
     "autoexec": {
      "startup": false,
      "wait_interval": 0
     }
    },
    "colab_type": "code",
    "id": "WxxrT-N-RCEc"
   },
   "outputs": [
    {
     "name": "stdout",
     "output_type": "stream",
     "text": [
      "chave: nome > Marcelo\n",
      "chave: sobrenome > Piovan\n",
      "chave: treinamento > Summer School\n",
      "chave: ano > 2018\n"
     ]
    }
   ],
   "source": [
    "# função sem retorno e com lista de parâmetros (chave, valor)\n",
    "def funcao_com_lista_parametro(**kwargs):\n",
    "  for k,v in kwargs.items():\n",
    "    print('chave:', k, '>', v)\n",
    "    \n",
    "\n",
    "# Chamando a função \n",
    "funcao_com_lista_parametro(nome='Marcelo', sobrenome='Piovan')\n",
    "\n",
    "# Chamando a função com dictionary\n",
    "dicionario = {'treinamento': 'Summer School', 'ano': 2018}\n",
    "funcao_com_lista_parametro(**dicionario)\n"
   ]
  },
  {
   "cell_type": "markdown",
   "metadata": {
    "colab_type": "text",
    "id": "a__Ud4r9SZgg"
   },
   "source": [
    "**Função com retorno simples**"
   ]
  },
  {
   "cell_type": "code",
   "execution_count": 5,
   "metadata": {
    "colab": {
     "autoexec": {
      "startup": false,
      "wait_interval": 0
     }
    },
    "colab_type": "code",
    "id": "MzyFbDZaSc1o"
   },
   "outputs": [
    {
     "name": "stdout",
     "output_type": "stream",
     "text": [
      "Dobro: 10\n"
     ]
    }
   ],
   "source": [
    "# função com retorno e com parâmetro\n",
    "def funcao_com_parametro(valor):\n",
    "  return valor * 2\n",
    "\n",
    "\n",
    "# Chamando a função\n",
    "dobro = funcao_com_parametro(5)\n",
    "print('Dobro:', dobro)\n"
   ]
  },
  {
   "cell_type": "markdown",
   "metadata": {
    "colab_type": "text",
    "id": "sjX3m8zVUqDa"
   },
   "source": [
    "**Função com retorno de uma lista de valores**"
   ]
  },
  {
   "cell_type": "code",
   "execution_count": 6,
   "metadata": {
    "colab": {
     "autoexec": {
      "startup": false,
      "wait_interval": 0
     }
    },
    "colab_type": "code",
    "id": "nOkxxrMWU2MD"
   },
   "outputs": [
    {
     "name": "stdout",
     "output_type": "stream",
     "text": [
      "O dobro de 5 é 10\n"
     ]
    }
   ],
   "source": [
    "# função com retorno e com parâmetro\n",
    "def funcao_com_parametro(valor):\n",
    "  resultado = valor * 2\n",
    "  return valor, resultado\n",
    "\n",
    "\n",
    "# Chamando a função\n",
    "valor, dobro = funcao_com_parametro(5)\n",
    "print('O dobro de',valor, 'é', dobro)"
   ]
  },
  {
   "cell_type": "markdown",
   "metadata": {
    "colab_type": "text",
    "id": "SXGBBMy6EyA-"
   },
   "source": [
    "**Função lambda**"
   ]
  },
  {
   "cell_type": "code",
   "execution_count": 7,
   "metadata": {
    "colab": {
     "autoexec": {
      "startup": false,
      "wait_interval": 0
     }
    },
    "colab_type": "code",
    "id": "Suic6ctpE0-L"
   },
   "outputs": [
    {
     "name": "stdout",
     "output_type": "stream",
     "text": [
      "Resultado: 15\n",
      "Resultado: 15\n"
     ]
    }
   ],
   "source": [
    "# função lambda que multiplica um valor a por outro b\n",
    "minha_funcao = lambda a, b : a * b\n",
    "\n",
    "# Chamando a função Lambda\n",
    "resultado = minha_funcao(3,5)\n",
    "print('Resultado:',resultado)\n",
    "\n",
    "\n",
    "\n",
    "# função similar\n",
    "def funcao_similar(a, b):\n",
    "  return a * b\n",
    "\n",
    "# Chamando a função\n",
    "resultado = funcao_similar(3,5)\n",
    "print('Resultado:',resultado)\n"
   ]
  },
  {
   "cell_type": "code",
   "execution_count": 9,
   "metadata": {
    "colab": {
     "autoexec": {
      "startup": false,
      "wait_interval": 0
     }
    },
    "colab_type": "code",
    "id": "h44fdN6RF9S5"
   },
   "outputs": [
    {
     "name": "stdout",
     "output_type": "stream",
     "text": [
      "Resultado: 16.0\n"
     ]
    }
   ],
   "source": [
    "# criando uma \"api\" com lambda\n",
    "api = {'somar': lambda x, y : x + y,\n",
    "       'subtrair': lambda x, y : x - y,\n",
    "       'multiplicar': lambda x, y : x * y,\n",
    "       'dividir': lambda x, y : x / y}\n",
    "\n",
    "resultado = api['somar'](1,5) + api['multiplicar'](2,2) + api['subtrair'](4,2) + api['dividir'](12,3)\n",
    "print('Resultado:',resultado)"
   ]
  },
  {
   "cell_type": "markdown",
   "metadata": {
    "colab_type": "text",
    "id": "Mm5VeBJFHqmE"
   },
   "source": [
    "**Percorrendo arrays com map**"
   ]
  },
  {
   "cell_type": "code",
   "execution_count": 11,
   "metadata": {
    "colab": {
     "autoexec": {
      "startup": false,
      "wait_interval": 0
     }
    },
    "colab_type": "code",
    "id": "kRO7-D23IAtA"
   },
   "outputs": [
    {
     "name": "stdout",
     "output_type": "stream",
     "text": [
      "<map object at 0x7f54cc28a3c8>\n",
      "[False, False, False, False, True, True, True, False, True, False, True]\n"
     ]
    }
   ],
   "source": [
    "# Objeto iterável\n",
    "array_a = [1,4,8,9,12,21,24,7,41,4,20]\n",
    "\n",
    "# funcão para o map\n",
    "def funcao_validar(x):\n",
    "  if x > 10:\n",
    "    return True\n",
    "  return False\n",
    "\n",
    "resultado_map = map(funcao_validar,array_a)\n",
    "resultado_list = list(resultado_map)\n",
    "print(resultado_map)\n",
    "print(resultado_list)\n"
   ]
  },
  {
   "cell_type": "code",
   "execution_count": 12,
   "metadata": {
    "colab": {
     "autoexec": {
      "startup": false,
      "wait_interval": 0
     }
    },
    "colab_type": "code",
    "id": "ssunxjaoJAHF"
   },
   "outputs": [
    {
     "name": "stdout",
     "output_type": "stream",
     "text": [
      "[False, False, False, False, True, True, True, False, True, False, True]\n"
     ]
    }
   ],
   "source": [
    "# map com lambda\n",
    "resultado_map = map(lambda x: x > 10,array_a)\n",
    "resultado_list = list(resultado_map)\n",
    "\n",
    "print(resultado_list)"
   ]
  }
 ],
 "metadata": {
  "colab": {
   "collapsed_sections": [],
   "default_view": {},
   "name": "summer_school_2018_fundamentos_python.ipynb",
   "provenance": [],
   "version": "0.3.2",
   "views": {}
  },
  "kernelspec": {
   "display_name": "Python 3",
   "language": "python",
   "name": "python3"
  },
  "language_info": {
   "codemirror_mode": {
    "name": "ipython",
    "version": 3
   },
   "file_extension": ".py",
   "mimetype": "text/x-python",
   "name": "python",
   "nbconvert_exporter": "python",
   "pygments_lexer": "ipython3",
   "version": "3.6.3"
  }
 },
 "nbformat": 4,
 "nbformat_minor": 2
}
