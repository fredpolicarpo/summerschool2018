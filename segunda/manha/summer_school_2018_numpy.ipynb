{
 "cells": [
  {
   "cell_type": "markdown",
   "metadata": {
    "colab_type": "text",
    "id": "21xRWHO8NLue"
   },
   "source": [
    "![alt text](http://infra.heurys.com.br/summerschool/fundamentos.000.png)"
   ]
  },
  {
   "cell_type": "markdown",
   "metadata": {
    "colab_type": "text",
    "id": "evPk5Bej4Z2k"
   },
   "source": [
    "## Importando a biblioteca do Numpy"
   ]
  },
  {
   "cell_type": "code",
   "execution_count": 1,
   "metadata": {
    "colab": {
     "autoexec": {
      "startup": false,
      "wait_interval": 0
     }
    },
    "colab_type": "code",
    "id": "30O1BKgf8swQ"
   },
   "outputs": [],
   "source": [
    "import numpy as np"
   ]
  },
  {
   "cell_type": "markdown",
   "metadata": {
    "colab_type": "text",
    "id": "7l9wIm3U8Z_Z"
   },
   "source": [
    "# 1 - Criando arrays com Numpy"
   ]
  },
  {
   "cell_type": "markdown",
   "metadata": {
    "colab_type": "text",
    "id": "-KLm3uwzfM6z"
   },
   "source": [
    "![alt text](http://infra.heurys.com.br/summerschool/numpy.create.PNG)"
   ]
  },
  {
   "cell_type": "markdown",
   "metadata": {
    "colab_type": "text",
    "id": "FFP3Ty3b4lJN"
   },
   "source": [
    "> ## 1.1- Array de várias dimensões (array)\n",
    "> #### ***Objetivo***: Criar um array de uma ou várias dimensões.\n",
    "> ##### documentação: https://docs.scipy.org/doc/numpy-1.13.0/reference/generated/numpy.array.html"
   ]
  },
  {
   "cell_type": "code",
   "execution_count": 4,
   "metadata": {
    "colab": {
     "autoexec": {
      "startup": false,
      "wait_interval": 0
     }
    },
    "colab_type": "code",
    "id": "euJuTql75aCn"
   },
   "outputs": [
    {
     "name": "stdout",
     "output_type": "stream",
     "text": [
      "Vetor:\n",
      " [1 2 3]\n"
     ]
    }
   ],
   "source": [
    "vetor  = np.array([1,2,3])\n",
    "print('Vetor:\\n',vetor)"
   ]
  },
  {
   "cell_type": "code",
   "execution_count": 5,
   "metadata": {
    "colab": {
     "autoexec": {
      "startup": false,
      "wait_interval": 0
     }
    },
    "colab_type": "code",
    "id": "2YwYMzE-5msp"
   },
   "outputs": [
    {
     "name": "stdout",
     "output_type": "stream",
     "text": [
      "Matriz:\n",
      " [[1 2 3]\n",
      " [4 5 6]]\n"
     ]
    }
   ],
   "source": [
    "matriz = np.array([[1,2,3], [4,5,6]])\n",
    "print('Matriz:\\n',matriz)"
   ]
  },
  {
   "cell_type": "code",
   "execution_count": 7,
   "metadata": {
    "colab": {
     "autoexec": {
      "startup": false,
      "wait_interval": 0
     }
    },
    "colab_type": "code",
    "id": "K6UUIfr59FGB"
   },
   "outputs": [
    {
     "name": "stdout",
     "output_type": "stream",
     "text": [
      "Matriz 2x2:\n",
      " [[1 2]\n",
      " [3 4]]\n"
     ]
    }
   ],
   "source": [
    "matriz_2_2 = np.matrix('1 2; 3 4')\n",
    "print('Matriz 2x2:\\n',matriz_2_2)"
   ]
  },
  {
   "cell_type": "code",
   "execution_count": 8,
   "metadata": {
    "colab": {
     "autoexec": {
      "startup": false,
      "wait_interval": 0
     }
    },
    "colab_type": "code",
    "id": "pqW9KkHS9HRJ"
   },
   "outputs": [
    {
     "name": "stdout",
     "output_type": "stream",
     "text": [
      "Matriz 2x3:\n",
      " [[1 2 3]\n",
      " [4 5 6]]\n"
     ]
    }
   ],
   "source": [
    "matriz_2_3 = np.matrix([[1,2,3],[4,5,6]])\n",
    "print('Matriz 2x3:\\n',matriz_2_3)"
   ]
  },
  {
   "cell_type": "code",
   "execution_count": 9,
   "metadata": {
    "colab": {
     "autoexec": {
      "startup": false,
      "wait_interval": 0
     }
    },
    "colab_type": "code",
    "id": "lj81CPtt9YxC"
   },
   "outputs": [
    {
     "name": "stdout",
     "output_type": "stream",
     "text": [
      "Matriz 2x3x3:\n",
      " [[[ 1  2  3]\n",
      "  [ 4  5  6]]\n",
      "\n",
      " [[ 7  8  9]\n",
      "  [10 11 12]]\n",
      "\n",
      " [[13 14 15]\n",
      "  [16 17 18]]]\n"
     ]
    }
   ],
   "source": [
    "matriz_3_2_3 = np.array([[[1,2,3],[4,5,6]],[[7,8,9],[10,11,12]],[[13,14,15],[16,17,18]]])\n",
    "print('Matriz 2x3x3:\\n',matriz_3_2_3)"
   ]
  },
  {
   "cell_type": "markdown",
   "metadata": {
    "colab_type": "text",
    "id": "0dvtWahV5y_A"
   },
   "source": [
    "> ## 1.2- Arrays com dados sequenciais (arange)\n",
    "> #### ***Objetivo***: Retornar um array com valores dentro de um intervalo. É importante lembrar que o parâmetro final (stop) do intervalo não será retornado.\n",
    "> ##### documentação: https://docs.scipy.org/doc/numpy-1.13.0/reference/generated/numpy.arange.html"
   ]
  },
  {
   "cell_type": "code",
   "execution_count": 11,
   "metadata": {
    "colab": {
     "autoexec": {
      "startup": false,
      "wait_interval": 0
     }
    },
    "colab_type": "code",
    "id": "4itC4Hca5sqX"
   },
   "outputs": [
    {
     "name": "stdout",
     "output_type": "stream",
     "text": [
      "Vetor 1x16:\n",
      " [ 1  2  3  4  5  6  7  8  9 10 11 12 13 14 15 16] \n",
      "\n",
      "Vetor 10-25:\n",
      " [10 15 20] \n",
      "\n"
     ]
    }
   ],
   "source": [
    "vetor_16 = np.arange(1,17)\n",
    "print('Vetor 1x16:\\n',vetor_16, '\\n')\n",
    "\n",
    "vetor_10_a_25 = np.arange(10,25,5)\n",
    "print('Vetor 10-25:\\n', vetor_10_a_25, '\\n')"
   ]
  },
  {
   "cell_type": "markdown",
   "metadata": {
    "colab_type": "text",
    "id": "u_KNiUyb6EmR"
   },
   "source": [
    "> ## 1.3- Arrays não inicializados > valores aleatórios (empty)\n",
    "> #### ***Objetivo***: Retornar um array não incializado\n",
    "> ##### documentação: https://docs.scipy.org/doc/numpy-1.13.0/reference/generated/numpy.empty.html\n",
    "> ##### documentação: https://docs.scipy.org/doc/numpy-1.13.0/reference/generated/numpy.empty_like.html"
   ]
  },
  {
   "cell_type": "code",
   "execution_count": 14,
   "metadata": {
    "colab": {
     "autoexec": {
      "startup": false,
      "wait_interval": 0
     }
    },
    "colab_type": "code",
    "id": "n3UPjzgy6OaQ"
   },
   "outputs": [
    {
     "name": "stdout",
     "output_type": "stream",
     "text": [
      "Matriz 2x2 (empty):\n",
      " [[ 0.  0.]\n",
      " [ 0.  0.]] \n",
      "\n",
      "Matriz (empty_like):\n",
      " [[ 0.  0.]\n",
      " [ 0.  0.]]\n"
     ]
    }
   ],
   "source": [
    "matriz_2_2_empty = np.empty((2,2))\n",
    "print('Matriz 2x2 (empty):\\n',matriz_2_2_empty, '\\n')\n",
    "\n",
    "matriz_empty_like = np.empty_like(matriz_2_2_empty)\n",
    "print('Matriz (empty_like):\\n',matriz_empty_like)"
   ]
  },
  {
   "cell_type": "markdown",
   "metadata": {
    "colab_type": "text",
    "id": "hJx08Aa66lFp"
   },
   "source": [
    "> ## 1.4- Arrays inicializados com valores randômicos (random)\n",
    "> #### ***Objetivo***: Retornar um array incializado com valores randômicos no intervalo de 0 - 1.\n",
    "> ##### documentação: https://docs.scipy.org/doc/numpy-1.13.0/reference/generated/numpy.random.random.html"
   ]
  },
  {
   "cell_type": "code",
   "execution_count": 15,
   "metadata": {
    "colab": {
     "autoexec": {
      "startup": false,
      "wait_interval": 0
     }
    },
    "colab_type": "code",
    "id": "iu_FDLtb6ttZ"
   },
   "outputs": [
    {
     "name": "stdout",
     "output_type": "stream",
     "text": [
      "Matriz 2x2 (random):\n",
      " [[ 0.1228233   0.43939755]\n",
      " [ 0.41558203  0.4709355 ]]\n"
     ]
    }
   ],
   "source": [
    "matriz_2_2_random = np.random.random((2,2))\n",
    "print('Matriz 2x2 (random):\\n',matriz_2_2_random)"
   ]
  },
  {
   "cell_type": "markdown",
   "metadata": {
    "colab_type": "text",
    "id": "KQc-W_LJ657z"
   },
   "source": [
    "> ## 1.5- Arrays inicializados com 1 (ones)\n",
    "> #### ***Objetivo***: Retornar uma matriz incializada com zero\n",
    "> ##### documentação: https://docs.scipy.org/doc/numpy-1.13.0/reference/generated/numpy.ones.html\n",
    "> ##### documentação: https://docs.scipy.org/doc/numpy-1.13.0/reference/generated/numpy.ones_like.html"
   ]
  },
  {
   "cell_type": "code",
   "execution_count": 16,
   "metadata": {
    "colab": {
     "autoexec": {
      "startup": false,
      "wait_interval": 0
     }
    },
    "colab_type": "code",
    "id": "QLLSYr1H6_pU"
   },
   "outputs": [
    {
     "name": "stdout",
     "output_type": "stream",
     "text": [
      "Matriz 3x3x3 (ones):\n",
      " [[[ 1.  1.  1.]\n",
      "  [ 1.  1.  1.]\n",
      "  [ 1.  1.  1.]]\n",
      "\n",
      " [[ 1.  1.  1.]\n",
      "  [ 1.  1.  1.]\n",
      "  [ 1.  1.  1.]]\n",
      "\n",
      " [[ 1.  1.  1.]\n",
      "  [ 1.  1.  1.]\n",
      "  [ 1.  1.  1.]]] \n",
      "\n",
      "Matriz (ones like):\n",
      " [[ 1.  1.]\n",
      " [ 1.  1.]]\n"
     ]
    }
   ],
   "source": [
    "matriz_3_3_3_ones = np.ones((3,3,3))\n",
    "print('Matriz 3x3x3 (ones):\\n', matriz_3_3_3_ones, '\\n')\n",
    "\n",
    "matriz_ones_like = np.ones_like(matriz_2_2_empty)\n",
    "print('Matriz (ones like):\\n', matriz_ones_like)"
   ]
  },
  {
   "cell_type": "markdown",
   "metadata": {
    "colab_type": "text",
    "id": "-0EcFQPR7TsK"
   },
   "source": [
    "> ## 1.6- Arrays inicializados com um número (full)\n",
    "> #### ***Objetivo***: Retornar um array incializado com um valor definido.\n",
    "> ##### documentação: https://docs.scipy.org/doc/numpy-1.13.0/reference/generated/numpy.full.html\n",
    "> ##### documentação: https://docs.scipy.org/doc/numpy-1.13.0/reference/generated/numpy.full_like.html"
   ]
  },
  {
   "cell_type": "code",
   "execution_count": 17,
   "metadata": {
    "colab": {
     "autoexec": {
      "startup": false,
      "wait_interval": 0
     }
    },
    "colab_type": "code",
    "id": "a7qwEHvV7YPa"
   },
   "outputs": [
    {
     "name": "stdout",
     "output_type": "stream",
     "text": [
      "Matriz 4x4 (full):\n",
      " [[10 10 10 10]\n",
      " [10 10 10 10]\n",
      " [10 10 10 10]\n",
      " [10 10 10 10]] \n",
      "\n",
      "Matriz (full like):\n",
      " [[ 5.  5.]\n",
      " [ 5.  5.]]\n"
     ]
    }
   ],
   "source": [
    "matriz_4_4_full = np.full((4,4), 10)\n",
    "print('Matriz 4x4 (full):\\n',matriz_4_4_full, '\\n')\n",
    "\n",
    "\n",
    "matriz_full_like = np.full_like(matriz_2_2_empty, 5)\n",
    "print('Matriz (full like):\\n', matriz_full_like)"
   ]
  },
  {
   "cell_type": "markdown",
   "metadata": {
    "colab_type": "text",
    "id": "mFZrxrnf72Uk"
   },
   "source": [
    "> ## 1.7- Arrays inicializados com 0 (zeros)\n",
    "> #### ***Objetivo***: Retornar um array incializado com zeros.\n",
    "> ##### documentação: https://docs.scipy.org/doc/numpy-1.13.0/reference/generated/numpy.zeros.html\n",
    "> ##### documentação: https://docs.scipy.org/doc/numpy-1.13.0/reference/generated/numpy.zeros_like.html"
   ]
  },
  {
   "cell_type": "code",
   "execution_count": 18,
   "metadata": {
    "colab": {
     "autoexec": {
      "startup": false,
      "wait_interval": 0
     }
    },
    "colab_type": "code",
    "id": "g1mGdr0X75d1"
   },
   "outputs": [
    {
     "name": "stdout",
     "output_type": "stream",
     "text": [
      "Matriz 3x3:\n",
      " [[ 0.  0.  0.]\n",
      " [ 0.  0.  0.]\n",
      " [ 0.  0.  0.]] \n",
      "\n",
      "Matriz (zeros like):\n",
      " [[ 0.  0.]\n",
      " [ 0.  0.]]\n"
     ]
    }
   ],
   "source": [
    "matriz_3_3 = np.zeros((3,3))\n",
    "print('Matriz 3x3:\\n',matriz_3_3, '\\n')\n",
    "\n",
    "\n",
    "matriz_zeros_like = np.zeros_like(matriz_2_2_empty)\n",
    "print('Matriz (zeros like):\\n', matriz_zeros_like)"
   ]
  },
  {
   "cell_type": "markdown",
   "metadata": {
    "colab_type": "text",
    "id": "1O7jlzRM_gB7"
   },
   "source": [
    "> ## 1.8- Arrays inicializados com valores entre dois números (linspace)\n",
    "> #### ***Objetivo***: Retornar um array incializado com um valor definido em um range. É importante lembrar que o parâmetro final (stop) do intervalo não será retornado.\n",
    "> ##### documentação: https://docs.scipy.org/doc/numpy-1.13.0/reference/generated/numpy.linspace.html"
   ]
  },
  {
   "cell_type": "code",
   "execution_count": 19,
   "metadata": {
    "colab": {
     "autoexec": {
      "startup": false,
      "wait_interval": 0
     }
    },
    "colab_type": "code",
    "id": "OhCz2K-Y-aud"
   },
   "outputs": [
    {
     "name": "stdout",
     "output_type": "stream",
     "text": [
      "vetor 0-2:\n",
      " [ 0.     0.125  0.25   0.375  0.5    0.625  0.75   0.875  1.   ]\n"
     ]
    }
   ],
   "source": [
    "vetor_0_a_2 = np.linspace(0,1,9)\n",
    "print('vetor 0-2:\\n', vetor_0_a_2)"
   ]
  },
  {
   "cell_type": "markdown",
   "metadata": {
    "colab_type": "text",
    "id": "ZdcUSSqe_SVE"
   },
   "source": [
    "> ## 1.9 - Arrays bidimensionais diagonais (diag)\n",
    "> #### ***Objetivo***: Criar uma matriz quadrada a partir de uma diagonal ou extrair a diagonal de uma matriz.\n",
    "> ##### documentação: https://docs.scipy.org/doc/numpy-1.13.0/reference/generated/numpy.diag.html"
   ]
  },
  {
   "cell_type": "code",
   "execution_count": 20,
   "metadata": {
    "colab": {
     "autoexec": {
      "startup": false,
      "wait_interval": 0
     }
    },
    "colab_type": "code",
    "id": "qDDeaTfa_eMD"
   },
   "outputs": [
    {
     "name": "stdout",
     "output_type": "stream",
     "text": [
      "Matriz diagonal:\n",
      " [[1 0 0]\n",
      " [0 2 0]\n",
      " [0 0 3]]\n"
     ]
    }
   ],
   "source": [
    "matriz_diagonal = np.diag([1,2,3])\n",
    "print('Matriz diagonal:\\n', matriz_diagonal)"
   ]
  },
  {
   "cell_type": "code",
   "execution_count": 21,
   "metadata": {
    "colab": {
     "autoexec": {
      "startup": false,
      "wait_interval": 0
     }
    },
    "colab_type": "code",
    "id": "CAgNUNy2AHq_"
   },
   "outputs": [
    {
     "name": "stdout",
     "output_type": "stream",
     "text": [
      "Matriz diagonal +1:\n",
      " [[0 1 0 0]\n",
      " [0 0 2 0]\n",
      " [0 0 0 3]\n",
      " [0 0 0 0]]\n"
     ]
    }
   ],
   "source": [
    "matriz_diagonal_1p = np.diag([1,2,3],1)\n",
    "print('Matriz diagonal +1:\\n', matriz_diagonal_1p)"
   ]
  },
  {
   "cell_type": "code",
   "execution_count": 22,
   "metadata": {
    "colab": {
     "autoexec": {
      "startup": false,
      "wait_interval": 0
     }
    },
    "colab_type": "code",
    "id": "FYZy-KG6A1gS"
   },
   "outputs": [
    {
     "name": "stdout",
     "output_type": "stream",
     "text": [
      "Matriz diagonal -1:\n",
      " [[0 0 0 0]\n",
      " [1 0 0 0]\n",
      " [0 2 0 0]\n",
      " [0 0 3 0]]\n"
     ]
    }
   ],
   "source": [
    "matriz_diagonal_1n = np.diag([1,2,3], -1)\n",
    "print('Matriz diagonal -1:\\n', matriz_diagonal_1n)"
   ]
  },
  {
   "cell_type": "code",
   "execution_count": 23,
   "metadata": {
    "colab": {
     "autoexec": {
      "startup": false,
      "wait_interval": 0
     }
    },
    "colab_type": "code",
    "id": "SV4lnByjCvCh"
   },
   "outputs": [
    {
     "name": "stdout",
     "output_type": "stream",
     "text": [
      "Matriz 3 x 3: \n",
      " [[1 2 3]\n",
      " [4 5 6]\n",
      " [7 8 9]] \n",
      "\n",
      "Diagonal: \n",
      " [1 5 9] \n",
      "\n",
      "Matriz diagonal nova: \n",
      " [[1 0 0]\n",
      " [0 5 0]\n",
      " [0 0 9]]\n"
     ]
    }
   ],
   "source": [
    "matriz_base_3_3 = np.array([[1,2,3],[4,5,6],[7,8,9]])\n",
    "print('Matriz 3 x 3: \\n', matriz_base_3_3, '\\n')\n",
    "\n",
    "diagonal = np.diag(matriz_base_3_3)\n",
    "print('Diagonal: \\n', diagonal, '\\n')\n",
    "\n",
    "matriz_diagonal_nova = np.diag(diagonal)\n",
    "print('Matriz diagonal nova: \\n', matriz_diagonal_nova)"
   ]
  },
  {
   "cell_type": "markdown",
   "metadata": {
    "colab_type": "text",
    "id": "R8ZWo4GoDtOu"
   },
   "source": [
    "> ## 1.10 - Arrays bidimensionais de identidade (eye, identity)\n",
    "> #### ***Objetivo eye***: Criar um array inicializando a diagonal com 1 e o restante com zeros.\n",
    "> #### ***Objetivo identity***: Criar uma matriz quadrada inicializando a diagonal com 1 e o restante com zeros.\n",
    "> ##### documentação: https://docs.scipy.org/doc/numpy-1.13.0/reference/generated/numpy.eye.html\n",
    "> ##### documentação: https://docs.scipy.org/doc/numpy-1.13.0/reference/generated/numpy.identity.html"
   ]
  },
  {
   "cell_type": "code",
   "execution_count": 24,
   "metadata": {
    "colab": {
     "autoexec": {
      "startup": false,
      "wait_interval": 0
     }
    },
    "colab_type": "code",
    "id": "jIRQ36y4Dzi9"
   },
   "outputs": [
    {
     "name": "stdout",
     "output_type": "stream",
     "text": [
      "Matriz identidade:\n",
      " [[1 0 0]\n",
      " [0 1 0]\n",
      " [0 0 1]] \n",
      "\n",
      "Matriz identidade:\n",
      " [[1 0 0]\n",
      " [0 1 0]\n",
      " [0 0 1]]\n"
     ]
    }
   ],
   "source": [
    "matriz_identidade = np.eye(3, dtype=np.int16)\n",
    "print('Matriz identidade:\\n', matriz_identidade, '\\n')\n",
    "\n",
    "matriz_identidade = np.identity(3, dtype=np.int16)\n",
    "print('Matriz identidade:\\n', matriz_identidade)"
   ]
  },
  {
   "cell_type": "code",
   "execution_count": 25,
   "metadata": {
    "colab": {
     "autoexec": {
      "startup": false,
      "wait_interval": 0
     }
    },
    "colab_type": "code",
    "id": "rX89VfDBD8_0"
   },
   "outputs": [
    {
     "name": "stdout",
     "output_type": "stream",
     "text": [
      "Matriz +1:\n",
      " [[0 1 0]\n",
      " [0 0 1]\n",
      " [0 0 0]] \n",
      "\n",
      "Matriz -1:\n",
      " [[0 0 0]\n",
      " [1 0 0]\n",
      " [0 1 0]] \n",
      "\n",
      "Matriz identidade 2 colunas:\n",
      " [[1 0]\n",
      " [0 1]\n",
      " [0 0]]\n"
     ]
    }
   ],
   "source": [
    "matriz_1p = np.eye(3, k=1, dtype=np.int16)\n",
    "print('Matriz +1:\\n', matriz_1p, '\\n')\n",
    "\n",
    "matriz_1n = np.eye(3, k=-1, dtype=np.int16)\n",
    "print('Matriz -1:\\n', matriz_1n, '\\n')\n",
    "\n",
    "matriz_2col = np.eye(3, 2, k=0, dtype=np.int16)\n",
    "print('Matriz identidade 2 colunas:\\n', matriz_2col)"
   ]
  },
  {
   "cell_type": "markdown",
   "metadata": {
    "colab_type": "text",
    "id": "_iz9V5x0F6M_"
   },
   "source": [
    "> ## 1.11 - Recuperando informações dos arrays"
   ]
  },
  {
   "cell_type": "markdown",
   "metadata": {
    "colab_type": "text",
    "id": "SG7J6B1GGBtf"
   },
   "source": [
    ">> ### 1.11.1 - Formato do array (shape)\n",
    ">> #### ***Objetivo***: Retornar o formato de um array.\n",
    ">> ##### documentação: https://docs.scipy.org/doc/numpy-1.13.0/reference/generated/numpy.ndarray.shape.html"
   ]
  },
  {
   "cell_type": "code",
   "execution_count": 26,
   "metadata": {
    "colab": {
     "autoexec": {
      "startup": false,
      "wait_interval": 0
     }
    },
    "colab_type": "code",
    "id": "KZ2augx2GHhX"
   },
   "outputs": [
    {
     "name": "stdout",
     "output_type": "stream",
     "text": [
      "formato:  (3, 3)\n",
      "formato:  (2, 2)\n",
      "formato:  (3, 2, 3)\n",
      "formato:  (9,)\n"
     ]
    }
   ],
   "source": [
    "print('formato: ', matriz_3_3.shape)\n",
    "print('formato: ', matriz_2_2.shape)\n",
    "print('formato: ', matriz_3_2_3.shape)\n",
    "print('formato: ', vetor_0_a_2.shape)"
   ]
  },
  {
   "cell_type": "markdown",
   "metadata": {
    "colab_type": "text",
    "id": "nvgKAGIjHJkQ"
   },
   "source": [
    ">> ### 1.11.2 - Tamanho do array (size)\n",
    ">> #### ***Objetivo***: Retornar o número de elementos de um array.\n",
    ">> ##### documentação: https://docs.scipy.org/doc/numpy-1.13.0/reference/generated/numpy.ndarray.size.html"
   ]
  },
  {
   "cell_type": "code",
   "execution_count": 27,
   "metadata": {
    "colab": {
     "autoexec": {
      "startup": false,
      "wait_interval": 0
     }
    },
    "colab_type": "code",
    "id": "P2BuMw0XHQaR"
   },
   "outputs": [
    {
     "name": "stdout",
     "output_type": "stream",
     "text": [
      "tamanho:  9\n",
      "tamanho:  4\n",
      "tamanho:  18\n",
      "tamanho:  9\n"
     ]
    }
   ],
   "source": [
    "print('tamanho: ', matriz_3_3.size)\n",
    "print('tamanho: ', matriz_2_2.size)\n",
    "print('tamanho: ', matriz_3_2_3.size)\n",
    "print('tamanho: ', vetor_0_a_2.size)"
   ]
  },
  {
   "cell_type": "markdown",
   "metadata": {
    "colab_type": "text",
    "id": "GXxNNPKIHaXc"
   },
   "source": [
    ">> ### 1.11.3 - Dimensão do array (ndim)\n",
    ">> #### ***Objetivo***: Retornar a quantidade de dimensões de um array.\n",
    ">> ##### documentação: https://docs.scipy.org/doc/numpy-1.13.0/reference/generated/numpy.ndarray.ndim.html"
   ]
  },
  {
   "cell_type": "code",
   "execution_count": 28,
   "metadata": {
    "colab": {
     "autoexec": {
      "startup": false,
      "wait_interval": 0
     },
     "base_uri": "https://localhost:8080/",
     "height": 197,
     "output_extras": [
      {
       "item_id": 1
      }
     ]
    },
    "colab_type": "code",
    "executionInfo": {
     "elapsed": 726,
     "status": "error",
     "timestamp": 1517157656425,
     "user": {
      "displayName": "Marcelo Piovan",
      "photoUrl": "//lh3.googleusercontent.com/-1kocnuiw9tM/AAAAAAAAAAI/AAAAAAAAAaM/PNGlBGhV92Q/s50-c-k-no/photo.jpg",
      "userId": "109344316316211163977"
     },
     "user_tz": 120
    },
    "id": "r4XcpHeVHe3s",
    "outputId": "47b4c27a-ba29-4de7-e025-ab3eaa5276d0"
   },
   "outputs": [
    {
     "name": "stdout",
     "output_type": "stream",
     "text": [
      "dimensão:  2\n",
      "dimensão:  3\n",
      "dimensão:  1\n"
     ]
    }
   ],
   "source": [
    "print('dimensão: ', matriz_3_3.ndim)\n",
    "print('dimensão: ', matriz_3_2_3.ndim)\n",
    "print('dimensão: ', vetor_0_a_2.ndim)"
   ]
  },
  {
   "cell_type": "markdown",
   "metadata": {
    "colab_type": "text",
    "id": "KNEHylYbHplC"
   },
   "source": [
    ">> ### 1.11.4 - Tipo dos elementos do array (dtype)\n",
    ">> #### ***Objetivo***: Retornar o tipo dos elementos de um array.\n",
    ">> ##### documentação: https://docs.scipy.org/doc/numpy-1.13.0/reference/generated/numpy.ndarray.dtype.html"
   ]
  },
  {
   "cell_type": "code",
   "execution_count": 29,
   "metadata": {
    "colab": {
     "autoexec": {
      "startup": false,
      "wait_interval": 0
     }
    },
    "colab_type": "code",
    "id": "nt52thMTHuoS"
   },
   "outputs": [
    {
     "name": "stdout",
     "output_type": "stream",
     "text": [
      "tipo:  float64\n"
     ]
    }
   ],
   "source": [
    "print('tipo: ', matriz_3_3.dtype)"
   ]
  },
  {
   "cell_type": "markdown",
   "metadata": {
    "colab_type": "text",
    "id": "Zf8xR8faIJDS"
   },
   "source": [
    ">> ### 1.11.5 - Tamanho em bytes do array (itemsize)\n",
    ">> #### ***Objetivo***: Retornar a quantidade de bytes utilizada pelo array.\n",
    ">> ##### documentação: https://docs.scipy.org/doc/numpy-1.13.0/reference/generated/numpy.ndarray.itemsize.html"
   ]
  },
  {
   "cell_type": "code",
   "execution_count": null,
   "metadata": {
    "colab": {
     "autoexec": {
      "startup": false,
      "wait_interval": 0
     }
    },
    "colab_type": "code",
    "id": "jdWnZLGjIRvy"
   },
   "outputs": [],
   "source": [
    "print(matriz_3_3.itemsize, 'bytes')"
   ]
  },
  {
   "cell_type": "markdown",
   "metadata": {
    "colab_type": "text",
    "id": "uvagyGtsJ5ME"
   },
   "source": [
    "# 2 - Transformando os arrays"
   ]
  },
  {
   "cell_type": "markdown",
   "metadata": {
    "colab_type": "text",
    "id": "Mnt5-IZhyxUO"
   },
   "source": [
    "![alt text](http://infra.heurys.com.br/summerschool/numpy.transform.01.png)"
   ]
  },
  {
   "cell_type": "code",
   "execution_count": null,
   "metadata": {
    "colab": {
     "autoexec": {
      "startup": false,
      "wait_interval": 0
     }
    },
    "colab_type": "code",
    "id": "xUE8669fKAzU"
   },
   "outputs": [],
   "source": [
    "vetor_base = np.arange(1,17)\n",
    "print('1 x 16:\\n', vetor_base)"
   ]
  },
  {
   "cell_type": "markdown",
   "metadata": {
    "colab_type": "text",
    "id": "H0VVb7TyKOTV"
   },
   "source": [
    "> ## 2.1 - Transformando um vetor em uma matriz, com ordem dos elementos = \"C\" ou \"F\"ortran. (reshape)\n",
    ">> #### ***Objetivo***: Retornar um novo formato de array sem alterar os dados e o formato original.\n",
    ">> ##### documentação: https://docs.scipy.org/doc/numpy-1.13.0/reference/generated/numpy.reshape.html"
   ]
  },
  {
   "cell_type": "code",
   "execution_count": null,
   "metadata": {
    "colab": {
     "autoexec": {
      "startup": false,
      "wait_interval": 0
     }
    },
    "colab_type": "code",
    "id": "O4rvF8yhKjgV"
   },
   "outputs": [],
   "source": [
    "matriz_4_4_c = vetor_base.reshape((4,4),order='C')\n",
    "print('4 x 4 ordem C:\\n', matriz_4_4_c, '\\n')"
   ]
  },
  {
   "cell_type": "code",
   "execution_count": null,
   "metadata": {
    "colab": {
     "autoexec": {
      "startup": false,
      "wait_interval": 0
     }
    },
    "colab_type": "code",
    "id": "I_4zmJsbd_uo"
   },
   "outputs": [],
   "source": [
    "matriz_4_4_f = vetor_base.reshape((4,4),order='F')\n",
    "print('4 x 4 ordem F:\\n', matriz_4_4_f, '\\n')"
   ]
  },
  {
   "cell_type": "code",
   "execution_count": null,
   "metadata": {
    "colab": {
     "autoexec": {
      "startup": false,
      "wait_interval": 0
     }
    },
    "colab_type": "code",
    "id": "id45UiD9eCXA"
   },
   "outputs": [],
   "source": [
    "matriz_2_8 = np.reshape(vetor_base, (2,8), order='C')\n",
    "print('2 x 8:\\n', matriz_2_8, '\\n')"
   ]
  },
  {
   "cell_type": "code",
   "execution_count": null,
   "metadata": {
    "colab": {
     "autoexec": {
      "startup": false,
      "wait_interval": 0
     }
    },
    "colab_type": "code",
    "id": "xzsVSHhNeDTH"
   },
   "outputs": [],
   "source": [
    "matriz_8_2 = np.reshape(vetor_base, (8,2))\n",
    "print('8 x 2:\\n', matriz_8_2, '\\n')"
   ]
  },
  {
   "cell_type": "code",
   "execution_count": null,
   "metadata": {
    "colab": {
     "autoexec": {
      "startup": false,
      "wait_interval": 0
     }
    },
    "colab_type": "code",
    "id": "xYyyc81TeEWQ"
   },
   "outputs": [],
   "source": [
    "matriz_2_dim_column = np.reshape(vetor_base, (2,-1))\n",
    "print('2 x D:\\n', matriz_2_dim_column)"
   ]
  },
  {
   "cell_type": "code",
   "execution_count": null,
   "metadata": {
    "colab": {
     "autoexec": {
      "startup": false,
      "wait_interval": 0
     }
    },
    "colab_type": "code",
    "id": "wOuk0e3peSvg"
   },
   "outputs": [],
   "source": [
    "matriz_2_8_b = np.reshape(matriz_4_4_f,(2,8))\n",
    "print('2 x 8 b:\\n', matriz_2_8_b)"
   ]
  },
  {
   "cell_type": "markdown",
   "metadata": {
    "colab_type": "text",
    "id": "mV9eZN7ZqV03"
   },
   "source": [
    "> ## 2.2 - Transformando um vetor em uma matriz, com ordem dos elementos = \"C\" ou \"F\"ortran. (resize)\n",
    ">> #### ***Objetivo***: Transforma o array em um novo formato.\n",
    ">> ##### documentação: https://docs.scipy.org/doc/numpy-1.13.0/reference/generated/numpy.resize.html"
   ]
  },
  {
   "cell_type": "code",
   "execution_count": null,
   "metadata": {
    "colab": {
     "autoexec": {
      "startup": false,
      "wait_interval": 0
     }
    },
    "colab_type": "code",
    "id": "7VfJfHaPqQpg"
   },
   "outputs": [],
   "source": [
    "vetor_base.resize((2,8))\n",
    "print('2 x 8:\\n', vetor_base)"
   ]
  },
  {
   "cell_type": "markdown",
   "metadata": {
    "colab_type": "text",
    "id": "G9vwgx0decjS"
   },
   "source": [
    "> ## 2.3 - Transformando uma matriz em um vetor, com ordem dos elementos = \"C\" ou \"F\"ortran. (ravel)\n",
    ">> #### ***Objetivo***: Retornar um array de uma dimensão.\n",
    ">> ##### documentação: https://docs.scipy.org/doc/numpy-1.13.0/reference/generated/numpy.ravel.html"
   ]
  },
  {
   "cell_type": "code",
   "execution_count": null,
   "metadata": {
    "colab": {
     "autoexec": {
      "startup": false,
      "wait_interval": 0
     }
    },
    "colab_type": "code",
    "id": "fdLibut4fInU"
   },
   "outputs": [],
   "source": [
    "print('Matriz 4 x 4 ordem Fortran:\\n', matriz_4_4_f, '\\n')\n",
    "\n",
    "vetor_16_b = np.ravel(matriz_4_4_f, order='F')\n",
    "print('1 x 16:\\n', vetor_16_b)"
   ]
  },
  {
   "cell_type": "code",
   "execution_count": null,
   "metadata": {
    "colab": {
     "autoexec": {
      "startup": false,
      "wait_interval": 0
     }
    },
    "colab_type": "code",
    "id": "sMxmEL1nfdlV"
   },
   "outputs": [],
   "source": [
    "matriz_2_8_c = np.reshape(np.ravel(matriz_4_4_f, order='F'),(2,8))\n",
    "print('2 x 8 c:\\n', matriz_2_8_c)"
   ]
  },
  {
   "cell_type": "markdown",
   "metadata": {
    "colab_type": "text",
    "id": "yRvn1tEZhRDd"
   },
   "source": [
    "> ## 2.4 - Extraindo elementos de um array de duas dimensões (slice)\n",
    ">> #### ***Objetivo***: Retornar parte de um array.\n",
    ">> ##### documentação: https://docs.scipy.org/doc/numpy-1.13.0/reference/arrays.indexing.html"
   ]
  },
  {
   "cell_type": "code",
   "execution_count": null,
   "metadata": {
    "colab": {
     "autoexec": {
      "startup": false,
      "wait_interval": 0
     }
    },
    "colab_type": "code",
    "id": "0FhYxS7NhkZn"
   },
   "outputs": [],
   "source": [
    "print('Matriz base: \\n', matriz_4_4_c, '\\n')"
   ]
  },
  {
   "cell_type": "code",
   "execution_count": null,
   "metadata": {
    "colab": {
     "autoexec": {
      "startup": false,
      "wait_interval": 0
     }
    },
    "colab_type": "code",
    "id": "Fy1_VjBsiBCN"
   },
   "outputs": [],
   "source": [
    "# sintaxe: [idx_line, idx_column]\n",
    "quinto_elemento = matriz_4_4_c[1,0]\n",
    "print('linha 2 coluna 1 = ', quinto_elemento)"
   ]
  },
  {
   "cell_type": "code",
   "execution_count": null,
   "metadata": {
    "colab": {
     "autoexec": {
      "startup": false,
      "wait_interval": 0
     }
    },
    "colab_type": "code",
    "id": "ahHdNgWNh-sX"
   },
   "outputs": [],
   "source": [
    "# sintaxe: [idx_line, idx_column : qtd_line]\n",
    "duas_linhas = matriz_4_4_c[:2]\n",
    "print('duas linhas:\\n', duas_linhas)"
   ]
  },
  {
   "cell_type": "code",
   "execution_count": null,
   "metadata": {
    "colab": {
     "autoexec": {
      "startup": false,
      "wait_interval": 0
     }
    },
    "colab_type": "code",
    "id": "J0s08Y9GiaEo"
   },
   "outputs": [],
   "source": [
    "# sintaxe: [idx_line, idx_column : qtd_line, idx_col]\n",
    "ultima_coluna = matriz_4_4_c[:4,3]\n",
    "print('ultima coluna:\\n', ultima_coluna)"
   ]
  },
  {
   "cell_type": "code",
   "execution_count": null,
   "metadata": {
    "colab": {
     "autoexec": {
      "startup": false,
      "wait_interval": 0
     }
    },
    "colab_type": "code",
    "id": "pqG0r5_ijjVi"
   },
   "outputs": [],
   "source": [
    "# sintaxe: [idx_line, idx_column : array(idx_column)]\n",
    "duas_colunas = matriz_4_4_c[0 : 4, [1, 2]]\n",
    "print('duas colunas:\\n', duas_colunas)"
   ]
  },
  {
   "cell_type": "code",
   "execution_count": null,
   "metadata": {
    "colab": {
     "autoexec": {
      "startup": false,
      "wait_interval": 0
     }
    },
    "colab_type": "code",
    "id": "TbGWhzePkBJO"
   },
   "outputs": [],
   "source": [
    "# sintaxe: [idx_line, idx_column : array(idx_column)]\n",
    "duas_colunas_b = matriz_4_4_c[:,[1, 2]]\n",
    "print('duas colunas b:\\n', duas_colunas_b)"
   ]
  },
  {
   "cell_type": "code",
   "execution_count": null,
   "metadata": {
    "colab": {
     "autoexec": {
      "startup": false,
      "wait_interval": 0
     }
    },
    "colab_type": "code",
    "id": "pwM8ysCJkLct"
   },
   "outputs": [],
   "source": [
    "# sintaxe: [idx_line, idx_column : array(idx_column)]\n",
    "matriz_2_2_part = matriz_4_4_c[1:3,[1, 2]]\n",
    "print('2 x 2 part:\\n', matriz_2_2_part)"
   ]
  },
  {
   "cell_type": "code",
   "execution_count": null,
   "metadata": {
    "colab": {
     "autoexec": {
      "startup": false,
      "wait_interval": 0
     }
    },
    "colab_type": "code",
    "id": "VE4xZQTSkt6W"
   },
   "outputs": [],
   "source": [
    "# sintaxe: [array(idx_line), array(idx_column)]\n",
    "vetor = matriz_4_4_c[[1, 2, 3],[0, 2, 1]]\n",
    "print('vetor part:\\n', vetor)"
   ]
  },
  {
   "cell_type": "markdown",
   "metadata": {
    "colab_type": "text",
    "id": "OLaCXpEalucR"
   },
   "source": [
    "> ## 2.4 - Extraindo elementos de um array de uma dimensão (slice)\n",
    ">> #### ***Objetivo***: Retornar parte de um array.\n",
    ">> ##### documentação: https://docs.scipy.org/doc/numpy-1.13.0/reference/arrays.indexing.html"
   ]
  },
  {
   "cell_type": "code",
   "execution_count": null,
   "metadata": {
    "colab": {
     "autoexec": {
      "startup": false,
      "wait_interval": 0
     }
    },
    "colab_type": "code",
    "id": "8HFwsYFLl70x"
   },
   "outputs": [],
   "source": [
    "vetor_base = np.arange(1,17)\n",
    "print('1 x 16:\\n', vetor_base)"
   ]
  },
  {
   "cell_type": "code",
   "execution_count": null,
   "metadata": {
    "colab": {
     "autoexec": {
      "startup": false,
      "wait_interval": 0
     }
    },
    "colab_type": "code",
    "id": "h0beALGVpV2p"
   },
   "outputs": [],
   "source": [
    "vetor_impar = vetor_base[0:16:2]\n",
    "print('vetor impar:\\n',vetor_impar)"
   ]
  },
  {
   "cell_type": "code",
   "execution_count": null,
   "metadata": {
    "colab": {
     "autoexec": {
      "startup": false,
      "wait_interval": 0
     }
    },
    "colab_type": "code",
    "id": "kQoqpPSpplf6"
   },
   "outputs": [],
   "source": [
    "sem_os_tres_ultimos = vetor_base[:-3]\n",
    "print('sem três os últimos:\\n',sem_os_tres_ultimos)"
   ]
  },
  {
   "cell_type": "code",
   "execution_count": null,
   "metadata": {
    "colab": {
     "autoexec": {
      "startup": false,
      "wait_interval": 0
     }
    },
    "colab_type": "code",
    "id": "4PBKgF74px26"
   },
   "outputs": [],
   "source": [
    "somente_os_tres_ultimos = vetor_base[-3:]\n",
    "print('somente os três últimos:\\n',somente_os_tres_ultimos)"
   ]
  },
  {
   "cell_type": "code",
   "execution_count": null,
   "metadata": {
    "colab": {
     "autoexec": {
      "startup": false,
      "wait_interval": 0
     }
    },
    "colab_type": "code",
    "id": "odcMBGPNp3BM"
   },
   "outputs": [],
   "source": [
    "nova_dimensao = vetor_base[:,np.newaxis]\n",
    "print('nova dimensão:\\n', nova_dimensao)"
   ]
  },
  {
   "cell_type": "markdown",
   "metadata": {
    "colab_type": "text",
    "id": "Hsg9Jr5x5ARb"
   },
   "source": [
    "> ## 2.5 - Concatenando arrays (concatenate, vstack, hstack)"
   ]
  },
  {
   "cell_type": "markdown",
   "metadata": {
    "colab_type": "text",
    "id": "p2HKajEf5pPP"
   },
   "source": [
    "![alt text](http://infra.heurys.com.br/summerschool/numpy.transform.02.png)"
   ]
  },
  {
   "cell_type": "markdown",
   "metadata": {
    "colab_type": "text",
    "id": "sJ-dpqqy6i38"
   },
   "source": [
    ">> #### ***Objetivo***: Retornar um array concatenado.\n",
    ">> ##### documentação: https://docs.scipy.org/doc/numpy-1.13.0/reference/generated/numpy.concatenate.html\n",
    ">> ##### documentação: https://docs.scipy.org/doc/numpy-1.13.0/reference/generated/numpy.vstack.html\n",
    ">> ##### documentação: https://docs.scipy.org/doc/numpy-1.13.0/reference/generated/numpy.hstack.html"
   ]
  },
  {
   "cell_type": "code",
   "execution_count": 3,
   "metadata": {
    "colab": {
     "autoexec": {
      "startup": false,
      "wait_interval": 0
     },
     "base_uri": "https://localhost:8080/",
     "height": 170,
     "output_extras": [
      {
       "item_id": 1
      }
     ]
    },
    "colab_type": "code",
    "executionInfo": {
     "elapsed": 625,
     "status": "ok",
     "timestamp": 1516815960363,
     "user": {
      "displayName": "Marcelo Piovan",
      "photoUrl": "//lh3.googleusercontent.com/-1kocnuiw9tM/AAAAAAAAAAI/AAAAAAAAAaM/PNGlBGhV92Q/s50-c-k-no/photo.jpg",
      "userId": "109344316316211163977"
     },
     "user_tz": 120
    },
    "id": "wNwMP0tU7Auj",
    "outputId": "6ecc95f8-c8cb-4443-cc47-34515fa63e47"
   },
   "outputs": [
    {
     "name": "stdout",
     "output_type": "stream",
     "text": [
      "Matriz 1:\n",
      "[[1 2]\n",
      " [3 4]]\n",
      "Matriz 2:\n",
      "[[5 6]\n",
      " [7 8]]\n",
      "Matriz 3:\n",
      "[[ 9 10]\n",
      " [11 12]]\n"
     ]
    }
   ],
   "source": [
    "matriz_1 = np.array(((1, 2), (3, 4)))\n",
    "matriz_2 = np.array(((5, 6), (7, 8)))\n",
    "matriz_3 = np.array(((9, 10), (11, 12)))\n",
    "\n",
    "print('Matriz 1:', matriz_1,'Matriz 2:', matriz_2,'Matriz 3:', matriz_3, sep='\\n')"
   ]
  },
  {
   "cell_type": "code",
   "execution_count": 4,
   "metadata": {
    "colab": {
     "autoexec": {
      "startup": false,
      "wait_interval": 0
     },
     "base_uri": "https://localhost:8080/",
     "height": 136,
     "output_extras": [
      {
       "item_id": 1
      }
     ]
    },
    "colab_type": "code",
    "executionInfo": {
     "elapsed": 630,
     "status": "ok",
     "timestamp": 1516815966805,
     "user": {
      "displayName": "Marcelo Piovan",
      "photoUrl": "//lh3.googleusercontent.com/-1kocnuiw9tM/AAAAAAAAAAI/AAAAAAAAAaM/PNGlBGhV92Q/s50-c-k-no/photo.jpg",
      "userId": "109344316316211163977"
     },
     "user_tz": 120
    },
    "id": "BSBIlzc08ELw",
    "outputId": "56938fc6-473c-4c81-e867-447b2436d253"
   },
   "outputs": [
    {
     "name": "stdout",
     "output_type": "stream",
     "text": [
      "Matriz concatenada: \n",
      " [[ 1  2]\n",
      " [ 3  4]\n",
      " [ 5  6]\n",
      " [ 7  8]\n",
      " [ 9 10]\n",
      " [11 12]]\n"
     ]
    }
   ],
   "source": [
    "matriz_concatenada = np.concatenate((matriz_1, matriz_2, matriz_3))\n",
    "print('Matriz concatenada: \\n', matriz_concatenada)"
   ]
  },
  {
   "cell_type": "code",
   "execution_count": null,
   "metadata": {
    "colab": {
     "autoexec": {
      "startup": false,
      "wait_interval": 0
     }
    },
    "colab_type": "code",
    "id": "EOTbY-V26pPs"
   },
   "outputs": [],
   "source": [
    "matriz_a = np.array([ [1,2,3], [4,5,6], [7,8,9] ])\n",
    "print('Matriz A:\\n', matriz_a)\n",
    "\n",
    "matriz_b = np.array([ [1,1,1], [2,2,2], [3,3,3] ])\n",
    "print('Matriz B:\\n',matriz_b)"
   ]
  },
  {
   "cell_type": "code",
   "execution_count": null,
   "metadata": {
    "colab": {
     "autoexec": {
      "startup": false,
      "wait_interval": 0
     }
    },
    "colab_type": "code",
    "id": "Ku9ifIN78r_e"
   },
   "outputs": [],
   "source": [
    "# Concatenando um array na vertical\n",
    "print('Vertical:\\n',np.vstack((matriz_a, matriz_b)))\n",
    "\n",
    "# Concatenando um array na horizontal\n",
    "print('Horizontal:\\n',np.hstack((matriz_a, matriz_b)))"
   ]
  },
  {
   "cell_type": "markdown",
   "metadata": {
    "colab_type": "text",
    "id": "12mk4OAa6CW-"
   },
   "source": [
    "> ## 2.6 - Dividindo arrays (split, vsplit, hsplit)"
   ]
  },
  {
   "cell_type": "markdown",
   "metadata": {
    "colab_type": "text",
    "id": "MNhKJqk5C6pd"
   },
   "source": [
    "![alt text](http://infra.heurys.com.br/summerschool/numpy.transform.03.png)"
   ]
  },
  {
   "cell_type": "markdown",
   "metadata": {
    "colab_type": "text",
    "id": "KXx7yUmDDFX0"
   },
   "source": [
    ">> #### ***Objetivo***: Retornar vários arrays divididos.\n",
    ">> ##### documentação: https://docs.scipy.org/doc/numpy-1.13.0/reference/generated/numpy.split.html\n",
    ">> ##### documentação: https://docs.scipy.org/doc/numpy-1.13.0/reference/generated/numpy.vsplit.html\n",
    ">> ##### documentação: https://docs.scipy.org/doc/numpy-1.13.0/reference/generated/numpy.hsplit.html"
   ]
  },
  {
   "cell_type": "code",
   "execution_count": null,
   "metadata": {
    "colab": {
     "autoexec": {
      "startup": false,
      "wait_interval": 0
     }
    },
    "colab_type": "code",
    "id": "Dl7jYAI09L-d"
   },
   "outputs": [],
   "source": [
    "matriz_1 = np.array(((1, 2), (3, 4), (5, 6) , (7, 8), (9, 10), (11, 12)))\n",
    "print('Matriz 1:\\n', matriz_1)"
   ]
  },
  {
   "cell_type": "code",
   "execution_count": null,
   "metadata": {
    "colab": {
     "autoexec": {
      "startup": false,
      "wait_interval": 0
     }
    },
    "colab_type": "code",
    "id": "hSYKcHGD9vDT"
   },
   "outputs": [],
   "source": [
    "split = np.split(matriz_1, 3)\n",
    "print('Split Parte 1:\\n', split[0])\n",
    "print('Split Parte 2:\\n', split[1])\n",
    "print('Split Parte 3:\\n', split[2])"
   ]
  },
  {
   "cell_type": "code",
   "execution_count": null,
   "metadata": {
    "colab": {
     "autoexec": {
      "startup": false,
      "wait_interval": 0
     }
    },
    "colab_type": "code",
    "id": "vsCwbIw6-ZAa"
   },
   "outputs": [],
   "source": [
    "split_vertical = np.vsplit(matriz_1, 2)\n",
    "print ('Split Vertical Parte 1:\\n', split_vertical[0])\n",
    "print ('Split Vertical Parte 2:\\n', split_vertical[1])"
   ]
  },
  {
   "cell_type": "code",
   "execution_count": null,
   "metadata": {
    "colab": {
     "autoexec": {
      "startup": false,
      "wait_interval": 0
     }
    },
    "colab_type": "code",
    "id": "a9UD6HDb-umQ"
   },
   "outputs": [],
   "source": [
    "split_horizontal = np.hsplit(matriz_1, 2)\n",
    "print ('Split Horizontal Parte 1:\\n', split_horizontal[0])\n",
    "print ('Split Horizontal Parte 2:\\n', split_horizontal[1])"
   ]
  },
  {
   "cell_type": "markdown",
   "metadata": {
    "colab_type": "text",
    "id": "0xYlIMkNUoGR"
   },
   "source": [
    "# 3 - Cálculos com os arrays"
   ]
  },
  {
   "cell_type": "markdown",
   "metadata": {
    "colab_type": "text",
    "id": "YxgoNKhqea4r"
   },
   "source": [
    "![alt text](http://infra.heurys.com.br/summerschool/numpy.calc.01.png)"
   ]
  },
  {
   "cell_type": "code",
   "execution_count": null,
   "metadata": {
    "colab": {
     "autoexec": {
      "startup": false,
      "wait_interval": 0
     }
    },
    "colab_type": "code",
    "id": "EJbb8WEmU6LY"
   },
   "outputs": [],
   "source": [
    "matriz_base = np.array([ [1,2], [3,4]])\n",
    "print('Matriz Base:\\n', matriz_base)"
   ]
  },
  {
   "cell_type": "markdown",
   "metadata": {
    "colab_type": "text",
    "id": "tv8wsr8Ffzdv"
   },
   "source": [
    "> ## 3.1 - Transposta, Inversa, Determinante, Autovalores e AutoVetores\n",
    ">> ##### documentação: https://docs.scipy.org/doc/numpy-1.13.0/reference/generated/numpy.ndarray.T.html\n",
    ">> ##### documentação: https://docs.scipy.org/doc/numpy-1.13.0/reference/generated/numpy.linalg.inv.html\n",
    ">> ##### documentação: https://docs.scipy.org/doc/numpy-1.13.0/reference/generated/numpy.linalg.det.html\n",
    ">> ##### documentação: https://docs.scipy.org/doc/numpy-1.13.0/reference/generated/numpy.linalg.eig.html"
   ]
  },
  {
   "cell_type": "code",
   "execution_count": null,
   "metadata": {
    "colab": {
     "autoexec": {
      "startup": false,
      "wait_interval": 0
     }
    },
    "colab_type": "code",
    "id": "gjr5sC8EU8tI"
   },
   "outputs": [],
   "source": [
    "# Matriz transposta\n",
    "print('Matriz Trasposta:\\n', matriz_base.T)"
   ]
  },
  {
   "cell_type": "code",
   "execution_count": null,
   "metadata": {
    "colab": {
     "autoexec": {
      "startup": false,
      "wait_interval": 0
     }
    },
    "colab_type": "code",
    "id": "t5q3oP7_VD25"
   },
   "outputs": [],
   "source": [
    "# Inversa da Matriz\n",
    "print('Inversa:\\n', np.linalg.inv(matriz_base))"
   ]
  },
  {
   "cell_type": "code",
   "execution_count": null,
   "metadata": {
    "colab": {
     "autoexec": {
      "startup": false,
      "wait_interval": 0
     }
    },
    "colab_type": "code",
    "id": "tClKtbEwVulq"
   },
   "outputs": [],
   "source": [
    "# Determinante da Matriz\n",
    "print('Determinante:\\n', np.linalg.det(matriz_base))"
   ]
  },
  {
   "cell_type": "code",
   "execution_count": null,
   "metadata": {
    "colab": {
     "autoexec": {
      "startup": false,
      "wait_interval": 0
     }
    },
    "colab_type": "code",
    "id": "w0_4tkp_cph-"
   },
   "outputs": [],
   "source": [
    "# Autovalores e autovetores\n",
    "valores, vetores = np.linalg.eig(matriz_base)\n",
    "print('Autovalores:\\n', valores)\n",
    "print('Autovetores:\\n', vetores)"
   ]
  },
  {
   "cell_type": "markdown",
   "metadata": {
    "colab_type": "text",
    "id": "QnYbfsjcgJZ3"
   },
   "source": [
    "> ## 3.2 - Soma, soma da diagonal, soma de um eixo, máximo, mínimo\n",
    ">> ##### documentação: https://docs.scipy.org/doc/numpy-1.13.0/reference/generated/numpy.sum.html\n",
    ">> ##### documentação: https://docs.scipy.org/doc/numpy-1.13.0/reference/generated/numpy.trace.html\n",
    ">> ##### documentação: https://docs.scipy.org/doc/numpy-1.13.0/reference/generated/numpy.ndarray.max.html\n",
    ">> ##### documentação: https://docs.scipy.org/doc/numpy-1.13.0/reference/generated/numpy.ndarray.min.html"
   ]
  },
  {
   "cell_type": "code",
   "execution_count": null,
   "metadata": {
    "colab": {
     "autoexec": {
      "startup": false,
      "wait_interval": 0
     }
    },
    "colab_type": "code",
    "id": "SNNZpQjAgdm3"
   },
   "outputs": [],
   "source": [
    "# Soma da Matriz\n",
    "print('Soma:\\n', np.sum(matriz_base))\n",
    "print('Soma da Coluna:\\n', np.sum(matriz_base, axis=0))\n",
    "print('Soma da Linha:\\n', np.sum(matriz_base, axis=1))"
   ]
  },
  {
   "cell_type": "code",
   "execution_count": null,
   "metadata": {
    "colab": {
     "autoexec": {
      "startup": false,
      "wait_interval": 0
     }
    },
    "colab_type": "code",
    "id": "ZNRHSoF9ge6x"
   },
   "outputs": [],
   "source": [
    "# Somando a diagonal da Matriz\n",
    "print('Soma Diagonal:\\n', np.trace(matriz_base))"
   ]
  },
  {
   "cell_type": "code",
   "execution_count": null,
   "metadata": {
    "colab": {
     "autoexec": {
      "startup": false,
      "wait_interval": 0
     }
    },
    "colab_type": "code",
    "id": "p3Ks9cDSghvN"
   },
   "outputs": [],
   "source": [
    "# Maior elemento da matriz\n",
    "print('Maior:\\n', np.max(matriz_base))\n",
    "print('Maior da Coluna:\\n', np.max(matriz_base, axis=0))\n",
    "print('Maior da Linha:\\n', np.max(matriz_base, axis=1))"
   ]
  },
  {
   "cell_type": "code",
   "execution_count": null,
   "metadata": {
    "colab": {
     "autoexec": {
      "startup": false,
      "wait_interval": 0
     }
    },
    "colab_type": "code",
    "id": "OIuOoap0gn3x"
   },
   "outputs": [],
   "source": [
    "# Menor elemento da matriz\n",
    "print('Menor:\\n', np.min(matriz_base))\n",
    "print('Menor da Coluna:\\n', np.min(matriz_base, axis=0))\n",
    "print('Menor da Linha:\\n', np.min(matriz_base, axis=1))"
   ]
  },
  {
   "cell_type": "markdown",
   "metadata": {
    "colab_type": "text",
    "id": "o-o_odQPhSk5"
   },
   "source": [
    "> ## 3.3 - Desvio Padrão, Raiz, Seno, Cosseno, Tangente, Exponencial e Logaritmo\n",
    ">> ##### documentação: https://docs.scipy.org/doc/numpy-1.13.0/reference/generated/numpy.std.html\n",
    ">> ##### documentação: https://docs.scipy.org/doc/numpy-1.13.0/reference/generated/numpy.sqrt.html\n",
    ">> ##### documentação: https://docs.scipy.org/doc/numpy-1.13.0/reference/generated/numpy.sin.html\n",
    ">> ##### documentação: https://docs.scipy.org/doc/numpy-1.13.0/reference/generated/numpy.cos.html\n",
    ">> ##### documentação: https://docs.scipy.org/doc/numpy-1.13.0/reference/generated/numpy.tan.html\n",
    ">> ##### documentação: https://docs.scipy.org/doc/numpy-1.13.0/reference/generated/numpy.exp.html\n",
    ">> ##### documentação: https://docs.scipy.org/doc/numpy-1.13.0/reference/generated/numpy.log.html"
   ]
  },
  {
   "cell_type": "code",
   "execution_count": null,
   "metadata": {
    "colab": {
     "autoexec": {
      "startup": false,
      "wait_interval": 0
     }
    },
    "colab_type": "code",
    "id": "FlcmveHyhlE2"
   },
   "outputs": [],
   "source": [
    "# Desvio Padrão da Matriz\n",
    "print('Desvio padrão:\\n', np.std(matriz_base))\n",
    "print('Desvio padrão da Coluna:\\n', np.std(matriz_base, axis=0))\n",
    "print('Desvio padrão da Linha:\\n', np.std(matriz_base, axis=1))"
   ]
  },
  {
   "cell_type": "code",
   "execution_count": null,
   "metadata": {
    "colab": {
     "autoexec": {
      "startup": false,
      "wait_interval": 0
     }
    },
    "colab_type": "code",
    "id": "X4lBswDOhnfK"
   },
   "outputs": [],
   "source": [
    "# Raiz da Matriz\n",
    "print('Raiz:\\n', np.sqrt(matriz_base))"
   ]
  },
  {
   "cell_type": "code",
   "execution_count": null,
   "metadata": {
    "colab": {
     "autoexec": {
      "startup": false,
      "wait_interval": 0
     }
    },
    "colab_type": "code",
    "id": "gcXTnBxgho79"
   },
   "outputs": [],
   "source": [
    "# Seno da Matriz\n",
    "print('Seno:\\n', np.sin(matriz_base))"
   ]
  },
  {
   "cell_type": "code",
   "execution_count": null,
   "metadata": {
    "colab": {
     "autoexec": {
      "startup": false,
      "wait_interval": 0
     }
    },
    "colab_type": "code",
    "id": "tmJblupPhqb2"
   },
   "outputs": [],
   "source": [
    "# Cosseno da Matriz\n",
    "print('Cosseno:\\n', np.cos(matriz_base))"
   ]
  },
  {
   "cell_type": "code",
   "execution_count": null,
   "metadata": {
    "colab": {
     "autoexec": {
      "startup": false,
      "wait_interval": 0
     }
    },
    "colab_type": "code",
    "id": "cHdIt_w_hrrD"
   },
   "outputs": [],
   "source": [
    "# Tangente da Matriz\n",
    "print('Tangente:\\n', np.tan(matriz_base))"
   ]
  },
  {
   "cell_type": "code",
   "execution_count": null,
   "metadata": {
    "colab": {
     "autoexec": {
      "startup": false,
      "wait_interval": 0
     }
    },
    "colab_type": "code",
    "id": "1Fvwz7ZJhtPb"
   },
   "outputs": [],
   "source": [
    "# Exponencial da Matriz\n",
    "print('Exponencial:\\n', np.exp(matriz_base))"
   ]
  },
  {
   "cell_type": "code",
   "execution_count": null,
   "metadata": {
    "colab": {
     "autoexec": {
      "startup": false,
      "wait_interval": 0
     }
    },
    "colab_type": "code",
    "id": "AcxoEOGnhv2D"
   },
   "outputs": [],
   "source": [
    "# Logaritmo da Matriz\n",
    "print('Logaritmo:\\n', np.log(matriz_base))\n",
    "print('Logaritmo base 10:\\n', np.log10(matriz_base))"
   ]
  },
  {
   "cell_type": "markdown",
   "metadata": {
    "colab_type": "text",
    "id": "7ECk9ctlirht"
   },
   "source": [
    "> ## 3.4 - Matriz de covariância \n",
    ">> ##### documentação: https://docs.scipy.org/doc/numpy-1.13.0/reference/generated/numpy.cov.html\n",
    ">> ##### documentação: https://docs.scipy.org/doc/numpy-1.13.0/reference/generated/numpy.dot.html"
   ]
  },
  {
   "cell_type": "code",
   "execution_count": null,
   "metadata": {
    "colab": {
     "autoexec": {
      "startup": false,
      "wait_interval": 0
     }
    },
    "colab_type": "code",
    "id": "eA-0mFhVtVaN"
   },
   "outputs": [],
   "source": [
    "# Matriz Covariância\n",
    "print('Matriz Covariância:\\n', np.cov(matriz_base))"
   ]
  },
  {
   "cell_type": "code",
   "execution_count": null,
   "metadata": {
    "colab": {
     "autoexec": {
      "startup": false,
      "wait_interval": 0
     }
    },
    "colab_type": "code",
    "id": "MyfSlJGDjiIw"
   },
   "outputs": [],
   "source": [
    "# Matriz A\n",
    "matriz_a = np.array(((2, 3), (4, 5)))\n",
    "\n",
    "# Matriz B\n",
    "matriz_b = np.array(((6, 7), (8, 9)))\n",
    "c = np.dot(matriz_a,matriz_b)\n",
    "print(c)"
   ]
  },
  {
   "cell_type": "markdown",
   "metadata": {
    "colab_type": "text",
    "id": "iDtTGdCBThcg"
   },
   "source": [
    "> ## 3.5 - Operações com os arrays"
   ]
  },
  {
   "cell_type": "code",
   "execution_count": 14,
   "metadata": {
    "colab": {
     "autoexec": {
      "startup": false,
      "wait_interval": 0
     },
     "base_uri": "https://localhost:8080/",
     "height": 408,
     "output_extras": [
      {
       "item_id": 1
      }
     ]
    },
    "colab_type": "code",
    "executionInfo": {
     "elapsed": 730,
     "status": "ok",
     "timestamp": 1517154756605,
     "user": {
      "displayName": "Marcelo Piovan",
      "photoUrl": "//lh3.googleusercontent.com/-1kocnuiw9tM/AAAAAAAAAAI/AAAAAAAAAaM/PNGlBGhV92Q/s50-c-k-no/photo.jpg",
      "userId": "109344316316211163977"
     },
     "user_tz": 120
    },
    "id": "A12yVp_KcR2W",
    "outputId": "dd6306d0-b20b-4b38-e205-26697e1ba161"
   },
   "outputs": [
    {
     "name": "stdout",
     "output_type": "stream",
     "text": [
      "Matriz A:\n",
      "[[1 2 3]\n",
      " [4 5 6]]\n",
      "\n",
      "Matriz B:\n",
      "[[2 2 2]\n",
      " [4 4 4]]\n",
      "\n",
      "Adição: \n",
      " [[ 3  4  5]\n",
      " [ 8  9 10]]\n",
      "\n",
      "Maior que dois: \n",
      " [[False False  True]\n",
      " [ True  True  True]]\n",
      "\n",
      "Multiplicação: \n",
      " [[ 6  6  6]\n",
      " [12 12 12]]\n",
      "\n",
      "Comparando 2 Matriz:\n",
      " [[False  True False]\n",
      " [ True False False]]\n"
     ]
    }
   ],
   "source": [
    "# Matriz Base\n",
    "matriz_a = np.array(((1,2,3), (4,5,6)))\n",
    "matriz_b = np.array(((2,2,2), (4,4,4)))\n",
    "\n",
    "print('Matriz A:', matriz_a, '\\nMatriz B:', matriz_b, sep='\\n')\n",
    "                    \n",
    "adicao = matriz_a + matriz_b\n",
    "print('\\nAdição: \\n', adicao)                    \n",
    "\n",
    "teste_bool = matriz_a > 2\n",
    "print('\\nMaior que dois: \\n', teste_bool)\n",
    "\n",
    "multiplicacao = matriz_b * 3\n",
    "print('\\nMultiplicação: \\n', multiplicacao)\n",
    "\n",
    "comparacao = matriz_a == matriz_b\n",
    "print('\\nComparando 2 Matriz:\\n',comparacao)"
   ]
  }
 ],
 "metadata": {
  "colab": {
   "collapsed_sections": [
    "0dvtWahV5y_A",
    "u_KNiUyb6EmR",
    "hJx08Aa66lFp",
    "KQc-W_LJ657z",
    "-0EcFQPR7TsK",
    "mFZrxrnf72Uk",
    "1O7jlzRM_gB7",
    "ZdcUSSqe_SVE",
    "R8ZWo4GoDtOu",
    "_iz9V5x0F6M_",
    "SG7J6B1GGBtf",
    "nvgKAGIjHJkQ",
    "GXxNNPKIHaXc",
    "KNEHylYbHplC",
    "Zf8xR8faIJDS",
    "H0VVb7TyKOTV",
    "mV9eZN7ZqV03",
    "G9vwgx0decjS",
    "yRvn1tEZhRDd",
    "OLaCXpEalucR",
    "sJ-dpqqy6i38",
    "KXx7yUmDDFX0",
    "tv8wsr8Ffzdv",
    "QnYbfsjcgJZ3",
    "o-o_odQPhSk5",
    "7ECk9ctlirht",
    "iDtTGdCBThcg"
   ],
   "default_view": {},
   "name": "summer_school_2018_numpy.ipynb",
   "provenance": [],
   "version": "0.3.2",
   "views": {}
  },
  "kernelspec": {
   "display_name": "Python 3",
   "language": "python",
   "name": "python3"
  },
  "language_info": {
   "name": ""
  }
 },
 "nbformat": 4,
 "nbformat_minor": 2
}
